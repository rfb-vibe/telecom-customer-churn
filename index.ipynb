{
 "cells": [
  {
   "cell_type": "markdown",
   "metadata": {},
   "source": [
    "# Customer Churn\n",
    "\n",
    "According to [Profitwell](https://www.profitwell.com/customer-retention/industry-rates), the average churn rate within the telecommunications industry is 22% (churn rate referring to the rate customers close their accounts or end their business relationship)."
   ]
  },
  {
   "cell_type": "markdown",
   "metadata": {},
   "source": [
    "# Business Understanding\n",
    "\n",
    "The telecommunications company, SyriaTel, is faced with the problem of better predicting when its customers will soon churn. They need a solution that will predict whether a customer will (\"soon\") stop doing business with SyriaTel. This will be valuable to SyriaTel, so that they may better understand their churn rate and identify areas they may address to improve its churn rate.\n",
    "\n",
    "Finding predictable patterns using a classification model will benefit SyriaTel's business practices to minimize customer churn.\n",
    "\n",
    "To determine which classification model best predicts potential customer churn, I will evaluate models' performance using the F1 score. The F1 score is the harmonic average of two other metrics, precision and recall, and is suited well to evaluate imbalanced datasets.\n",
    "\n",
    "Precision summarizes the fraction of examples assigned the positive class that belong to the positive class whereas the recall summarizes how well the positive class was predicted and is the same calculation as sensitivity. Both precision and recall values fall in the range [0,1], with 0 indicating no precision/recall and 1 perfect precision/recall. These values can be combined into one metric, the F1 score, which is the harmonic average of the precision and recall scores. The F1 score also ranges [0,1].\n",
    "\n",
    "The closer to 1 the F1 score, the more perfect the model is classifying samples."
   ]
  },
  {
   "cell_type": "markdown",
   "metadata": {},
   "source": [
    "# Data Understanding\n",
    "\n",
    "The data source for this project comes from [SyriaTel's churn data](https://www.kaggle.com/datasets/becksddf/churn-in-telecoms-dataset). This data is suitable for the project because it includes key performance indicators and data points from SyriaTel related to its customers and their accounts as well as whether the customer churned or not.\n",
    "\n",
    "The data consists of 3,333 observations with 21 features and no missing values.\n",
    "\n",
    "**Explanation of Features**\n",
    "\n",
    "* `state`: the state the user lives in\n",
    "* `account length`: the number of days the user has this account\n",
    "* `area code`: the code of the area the user lives in\n",
    "* `phone number`: the phone number of the user\n",
    "* `international plan`: true if the user has the international plan, otherwise false\n",
    "* `voice mail plan`: true if the user has the voice mail plan, otherwise false\n",
    "* `number vmail messages`: the number of voice mail messages the user has sent\n",
    "* `total day minutes`: total number of minutes the user has been in calls during the day\n",
    "* `total day calls`: total number of calls the user has done during the day\n",
    "* `total day charge`: total amount of money the user was charged by the Telecom company for calls during the day\n",
    "* `total eve minutes`: total number of minutes the user has been in calls during the evening\n",
    "* `total eve calls`: total number of calls the user has done during the evening\n",
    "* `total eve charge`: total amount of money the user was charged by the Telecom company for calls during the evening\n",
    "* `total night minutes`: total number of minutes the user has been in calls during the night\n",
    "* `total night calls`: total number of calls the user has done during the night\n",
    "* `total night charge`: total amount of money the user was charged by the Telecom company for calls during the night\n",
    "* `total intl minutes`: total number of minutes the user has been in international calls\n",
    "* `total intl calls`: total number of international calls the user has done\n",
    "* `total intl charge`: total amount of money the user was charged by the Telecom company for international calls\n",
    "* `customer service calls`: number of customer service calls the user has done\n",
    "* `churn`: true if the user terminated the contract, otherwise false\n",
    "\n",
    "\n",
    "Further descriptive statistics to follow."
   ]
  },
  {
   "cell_type": "markdown",
   "metadata": {},
   "source": [
    "# Data Preparation"
   ]
  },
  {
   "cell_type": "markdown",
   "metadata": {},
   "source": [
    "## Importing Libraries and Data"
   ]
  },
  {
   "cell_type": "code",
   "execution_count": 166,
   "metadata": {
    "ExecuteTime": {
     "end_time": "2022-05-24T23:19:36.723468Z",
     "start_time": "2022-05-24T23:19:36.580321Z"
    }
   },
   "outputs": [],
   "source": [
    "# Import needed base libraries\n",
    "\n",
    "import pandas as pd\n",
    "import numpy as np\n",
    "import matplotlib.pyplot as plt\n",
    "import seaborn as sns\n",
    "\n",
    "# Import machine learning libraries\n",
    "\n",
    "from sklearn.preprocessing import LabelEncoder\n",
    "from sklearn.model_selection import train_test_split\n",
    "from sklearn.preprocessing import StandardScaler\n",
    "from sklearn.neighbors import KNeighborsClassifier\n",
    "from sklearn.tree import DecisionTreeClassifier\n",
    "from xgboost import XGBClassifier\n",
    "from sklearn.metrics import plot_confusion_matrix, f1_score, classification_report\n",
    "from sklearn.model_selection import GridSearchCV\n",
    "from sklearn.ensemble import RandomForestClassifier\n",
    "from sklearn.linear_model import LogisticRegression\n",
    "\n",
    "\n",
    "import warnings\n",
    "warnings.filterwarnings('ignore')\n",
    "%matplotlib inline"
   ]
  },
  {
   "cell_type": "code",
   "execution_count": 2,
   "metadata": {
    "ExecuteTime": {
     "end_time": "2022-05-24T18:53:34.831417Z",
     "start_time": "2022-05-24T18:53:34.777205Z"
    }
   },
   "outputs": [],
   "source": [
    "# Import dataset\n",
    "\n",
    "df = pd.read_csv('telecom.csv')"
   ]
  },
  {
   "cell_type": "code",
   "execution_count": 3,
   "metadata": {
    "ExecuteTime": {
     "end_time": "2022-05-24T18:53:34.970502Z",
     "start_time": "2022-05-24T18:53:34.922678Z"
    }
   },
   "outputs": [
    {
     "data": {
      "text/html": [
       "<div>\n",
       "<style scoped>\n",
       "    .dataframe tbody tr th:only-of-type {\n",
       "        vertical-align: middle;\n",
       "    }\n",
       "\n",
       "    .dataframe tbody tr th {\n",
       "        vertical-align: top;\n",
       "    }\n",
       "\n",
       "    .dataframe thead th {\n",
       "        text-align: right;\n",
       "    }\n",
       "</style>\n",
       "<table border=\"1\" class=\"dataframe\">\n",
       "  <thead>\n",
       "    <tr style=\"text-align: right;\">\n",
       "      <th></th>\n",
       "      <th>state</th>\n",
       "      <th>account length</th>\n",
       "      <th>area code</th>\n",
       "      <th>phone number</th>\n",
       "      <th>international plan</th>\n",
       "      <th>voice mail plan</th>\n",
       "      <th>number vmail messages</th>\n",
       "      <th>total day minutes</th>\n",
       "      <th>total day calls</th>\n",
       "      <th>total day charge</th>\n",
       "      <th>...</th>\n",
       "      <th>total eve calls</th>\n",
       "      <th>total eve charge</th>\n",
       "      <th>total night minutes</th>\n",
       "      <th>total night calls</th>\n",
       "      <th>total night charge</th>\n",
       "      <th>total intl minutes</th>\n",
       "      <th>total intl calls</th>\n",
       "      <th>total intl charge</th>\n",
       "      <th>customer service calls</th>\n",
       "      <th>churn</th>\n",
       "    </tr>\n",
       "  </thead>\n",
       "  <tbody>\n",
       "    <tr>\n",
       "      <th>0</th>\n",
       "      <td>KS</td>\n",
       "      <td>128</td>\n",
       "      <td>415</td>\n",
       "      <td>382-4657</td>\n",
       "      <td>no</td>\n",
       "      <td>yes</td>\n",
       "      <td>25</td>\n",
       "      <td>265.1</td>\n",
       "      <td>110</td>\n",
       "      <td>45.07</td>\n",
       "      <td>...</td>\n",
       "      <td>99</td>\n",
       "      <td>16.78</td>\n",
       "      <td>244.7</td>\n",
       "      <td>91</td>\n",
       "      <td>11.01</td>\n",
       "      <td>10.0</td>\n",
       "      <td>3</td>\n",
       "      <td>2.70</td>\n",
       "      <td>1</td>\n",
       "      <td>False</td>\n",
       "    </tr>\n",
       "    <tr>\n",
       "      <th>1</th>\n",
       "      <td>OH</td>\n",
       "      <td>107</td>\n",
       "      <td>415</td>\n",
       "      <td>371-7191</td>\n",
       "      <td>no</td>\n",
       "      <td>yes</td>\n",
       "      <td>26</td>\n",
       "      <td>161.6</td>\n",
       "      <td>123</td>\n",
       "      <td>27.47</td>\n",
       "      <td>...</td>\n",
       "      <td>103</td>\n",
       "      <td>16.62</td>\n",
       "      <td>254.4</td>\n",
       "      <td>103</td>\n",
       "      <td>11.45</td>\n",
       "      <td>13.7</td>\n",
       "      <td>3</td>\n",
       "      <td>3.70</td>\n",
       "      <td>1</td>\n",
       "      <td>False</td>\n",
       "    </tr>\n",
       "    <tr>\n",
       "      <th>2</th>\n",
       "      <td>NJ</td>\n",
       "      <td>137</td>\n",
       "      <td>415</td>\n",
       "      <td>358-1921</td>\n",
       "      <td>no</td>\n",
       "      <td>no</td>\n",
       "      <td>0</td>\n",
       "      <td>243.4</td>\n",
       "      <td>114</td>\n",
       "      <td>41.38</td>\n",
       "      <td>...</td>\n",
       "      <td>110</td>\n",
       "      <td>10.30</td>\n",
       "      <td>162.6</td>\n",
       "      <td>104</td>\n",
       "      <td>7.32</td>\n",
       "      <td>12.2</td>\n",
       "      <td>5</td>\n",
       "      <td>3.29</td>\n",
       "      <td>0</td>\n",
       "      <td>False</td>\n",
       "    </tr>\n",
       "    <tr>\n",
       "      <th>3</th>\n",
       "      <td>OH</td>\n",
       "      <td>84</td>\n",
       "      <td>408</td>\n",
       "      <td>375-9999</td>\n",
       "      <td>yes</td>\n",
       "      <td>no</td>\n",
       "      <td>0</td>\n",
       "      <td>299.4</td>\n",
       "      <td>71</td>\n",
       "      <td>50.90</td>\n",
       "      <td>...</td>\n",
       "      <td>88</td>\n",
       "      <td>5.26</td>\n",
       "      <td>196.9</td>\n",
       "      <td>89</td>\n",
       "      <td>8.86</td>\n",
       "      <td>6.6</td>\n",
       "      <td>7</td>\n",
       "      <td>1.78</td>\n",
       "      <td>2</td>\n",
       "      <td>False</td>\n",
       "    </tr>\n",
       "    <tr>\n",
       "      <th>4</th>\n",
       "      <td>OK</td>\n",
       "      <td>75</td>\n",
       "      <td>415</td>\n",
       "      <td>330-6626</td>\n",
       "      <td>yes</td>\n",
       "      <td>no</td>\n",
       "      <td>0</td>\n",
       "      <td>166.7</td>\n",
       "      <td>113</td>\n",
       "      <td>28.34</td>\n",
       "      <td>...</td>\n",
       "      <td>122</td>\n",
       "      <td>12.61</td>\n",
       "      <td>186.9</td>\n",
       "      <td>121</td>\n",
       "      <td>8.41</td>\n",
       "      <td>10.1</td>\n",
       "      <td>3</td>\n",
       "      <td>2.73</td>\n",
       "      <td>3</td>\n",
       "      <td>False</td>\n",
       "    </tr>\n",
       "  </tbody>\n",
       "</table>\n",
       "<p>5 rows × 21 columns</p>\n",
       "</div>"
      ],
      "text/plain": [
       "  state  account length  area code phone number international plan  \\\n",
       "0    KS             128        415     382-4657                 no   \n",
       "1    OH             107        415     371-7191                 no   \n",
       "2    NJ             137        415     358-1921                 no   \n",
       "3    OH              84        408     375-9999                yes   \n",
       "4    OK              75        415     330-6626                yes   \n",
       "\n",
       "  voice mail plan  number vmail messages  total day minutes  total day calls  \\\n",
       "0             yes                     25              265.1              110   \n",
       "1             yes                     26              161.6              123   \n",
       "2              no                      0              243.4              114   \n",
       "3              no                      0              299.4               71   \n",
       "4              no                      0              166.7              113   \n",
       "\n",
       "   total day charge  ...  total eve calls  total eve charge  \\\n",
       "0             45.07  ...               99             16.78   \n",
       "1             27.47  ...              103             16.62   \n",
       "2             41.38  ...              110             10.30   \n",
       "3             50.90  ...               88              5.26   \n",
       "4             28.34  ...              122             12.61   \n",
       "\n",
       "   total night minutes  total night calls  total night charge  \\\n",
       "0                244.7                 91               11.01   \n",
       "1                254.4                103               11.45   \n",
       "2                162.6                104                7.32   \n",
       "3                196.9                 89                8.86   \n",
       "4                186.9                121                8.41   \n",
       "\n",
       "   total intl minutes  total intl calls  total intl charge  \\\n",
       "0                10.0                 3               2.70   \n",
       "1                13.7                 3               3.70   \n",
       "2                12.2                 5               3.29   \n",
       "3                 6.6                 7               1.78   \n",
       "4                10.1                 3               2.73   \n",
       "\n",
       "   customer service calls  churn  \n",
       "0                       1  False  \n",
       "1                       1  False  \n",
       "2                       0  False  \n",
       "3                       2  False  \n",
       "4                       3  False  \n",
       "\n",
       "[5 rows x 21 columns]"
      ]
     },
     "execution_count": 3,
     "metadata": {},
     "output_type": "execute_result"
    }
   ],
   "source": [
    "# Preview the data to ensure it loaded correctly\n",
    "\n",
    "df.head()"
   ]
  },
  {
   "cell_type": "markdown",
   "metadata": {},
   "source": [
    "## Data Import"
   ]
  },
  {
   "cell_type": "code",
   "execution_count": 4,
   "metadata": {
    "ExecuteTime": {
     "end_time": "2022-05-24T18:53:34.992927Z",
     "start_time": "2022-05-24T18:53:34.980620Z"
    }
   },
   "outputs": [
    {
     "data": {
      "text/plain": [
       "(3333, 21)"
      ]
     },
     "execution_count": 4,
     "metadata": {},
     "output_type": "execute_result"
    }
   ],
   "source": [
    "# Shape of the data\n",
    "\n",
    "df.shape\n",
    "\n",
    "# Indicates 3,333 observations with 21 features"
   ]
  },
  {
   "cell_type": "code",
   "execution_count": 5,
   "metadata": {
    "ExecuteTime": {
     "end_time": "2022-05-24T18:53:35.033770Z",
     "start_time": "2022-05-24T18:53:34.998128Z"
    }
   },
   "outputs": [
    {
     "name": "stdout",
     "output_type": "stream",
     "text": [
      "<class 'pandas.core.frame.DataFrame'>\n",
      "RangeIndex: 3333 entries, 0 to 3332\n",
      "Data columns (total 21 columns):\n",
      " #   Column                  Non-Null Count  Dtype  \n",
      "---  ------                  --------------  -----  \n",
      " 0   state                   3333 non-null   object \n",
      " 1   account length          3333 non-null   int64  \n",
      " 2   area code               3333 non-null   int64  \n",
      " 3   phone number            3333 non-null   object \n",
      " 4   international plan      3333 non-null   object \n",
      " 5   voice mail plan         3333 non-null   object \n",
      " 6   number vmail messages   3333 non-null   int64  \n",
      " 7   total day minutes       3333 non-null   float64\n",
      " 8   total day calls         3333 non-null   int64  \n",
      " 9   total day charge        3333 non-null   float64\n",
      " 10  total eve minutes       3333 non-null   float64\n",
      " 11  total eve calls         3333 non-null   int64  \n",
      " 12  total eve charge        3333 non-null   float64\n",
      " 13  total night minutes     3333 non-null   float64\n",
      " 14  total night calls       3333 non-null   int64  \n",
      " 15  total night charge      3333 non-null   float64\n",
      " 16  total intl minutes      3333 non-null   float64\n",
      " 17  total intl calls        3333 non-null   int64  \n",
      " 18  total intl charge       3333 non-null   float64\n",
      " 19  customer service calls  3333 non-null   int64  \n",
      " 20  churn                   3333 non-null   bool   \n",
      "dtypes: bool(1), float64(8), int64(8), object(4)\n",
      "memory usage: 524.2+ KB\n"
     ]
    }
   ],
   "source": [
    "df.info()\n",
    "\n",
    "# No missing values"
   ]
  },
  {
   "cell_type": "markdown",
   "metadata": {},
   "source": [
    "A couple of notes about our data thus far:\n",
    "\n",
    "1. `phone number` is essentially a unique ID for each observation, so that column can be dropped\n",
    "2. `state`, `international plan`, and `voice mail plan` have string values (`churn` is a boolean value). For the latter two that have yes/no, I convert to 1 and 0, respectively. For `state`, I use `LabelEncoder`.\n",
    "\n",
    "For efficiency and reproducibility, I write a preprocessing function to handle this work."
   ]
  },
  {
   "cell_type": "markdown",
   "metadata": {},
   "source": [
    "## Data Preprocessing"
   ]
  },
  {
   "cell_type": "code",
   "execution_count": 8,
   "metadata": {
    "ExecuteTime": {
     "end_time": "2022-05-24T18:53:35.147792Z",
     "start_time": "2022-05-24T18:53:35.140346Z"
    }
   },
   "outputs": [],
   "source": [
    "# Write a preprocessing data function\n",
    "\n",
    "def preprocess_data(df):\n",
    "    pre_df = df.copy()\n",
    "    \n",
    "    # Replace the spaces in the column names with underscores\n",
    "    pre_df.columns = [s.replace(\" \", \"_\") for s in pre_df.columns]\n",
    "    \n",
    "    # Convert string columns to integers\n",
    "    pre_df[\"international_plan\"] = pre_df[\"international_plan\"].apply(lambda x: 0 if x==\"no\" else 1)\n",
    "    pre_df[\"voice_mail_plan\"] = pre_df[\"voice_mail_plan\"].apply(lambda x: 0 if x==\"no\" else 1)\n",
    "    pre_df = pre_df.drop([\"phone_number\"], axis=1)\n",
    "    \n",
    "    # Initialize labelencoder()\n",
    "    le = LabelEncoder()\n",
    "    le.fit(pre_df['state'])\n",
    "    pre_df['state'] = le.transform(pre_df['state'])\n",
    "    \n",
    "    return pre_df, le"
   ]
  },
  {
   "cell_type": "code",
   "execution_count": 9,
   "metadata": {
    "ExecuteTime": {
     "end_time": "2022-05-24T18:53:35.210656Z",
     "start_time": "2022-05-24T18:53:35.158746Z"
    }
   },
   "outputs": [
    {
     "data": {
      "text/html": [
       "<div>\n",
       "<style scoped>\n",
       "    .dataframe tbody tr th:only-of-type {\n",
       "        vertical-align: middle;\n",
       "    }\n",
       "\n",
       "    .dataframe tbody tr th {\n",
       "        vertical-align: top;\n",
       "    }\n",
       "\n",
       "    .dataframe thead th {\n",
       "        text-align: right;\n",
       "    }\n",
       "</style>\n",
       "<table border=\"1\" class=\"dataframe\">\n",
       "  <thead>\n",
       "    <tr style=\"text-align: right;\">\n",
       "      <th></th>\n",
       "      <th>state</th>\n",
       "      <th>account_length</th>\n",
       "      <th>area_code</th>\n",
       "      <th>international_plan</th>\n",
       "      <th>voice_mail_plan</th>\n",
       "      <th>number_vmail_messages</th>\n",
       "      <th>total_day_minutes</th>\n",
       "      <th>total_day_calls</th>\n",
       "      <th>total_day_charge</th>\n",
       "      <th>total_eve_minutes</th>\n",
       "      <th>total_eve_calls</th>\n",
       "      <th>total_eve_charge</th>\n",
       "      <th>total_night_minutes</th>\n",
       "      <th>total_night_calls</th>\n",
       "      <th>total_night_charge</th>\n",
       "      <th>total_intl_minutes</th>\n",
       "      <th>total_intl_calls</th>\n",
       "      <th>total_intl_charge</th>\n",
       "      <th>customer_service_calls</th>\n",
       "      <th>churn</th>\n",
       "    </tr>\n",
       "  </thead>\n",
       "  <tbody>\n",
       "    <tr>\n",
       "      <th>0</th>\n",
       "      <td>16</td>\n",
       "      <td>128</td>\n",
       "      <td>415</td>\n",
       "      <td>0</td>\n",
       "      <td>1</td>\n",
       "      <td>25</td>\n",
       "      <td>265.1</td>\n",
       "      <td>110</td>\n",
       "      <td>45.07</td>\n",
       "      <td>197.4</td>\n",
       "      <td>99</td>\n",
       "      <td>16.78</td>\n",
       "      <td>244.7</td>\n",
       "      <td>91</td>\n",
       "      <td>11.01</td>\n",
       "      <td>10.0</td>\n",
       "      <td>3</td>\n",
       "      <td>2.70</td>\n",
       "      <td>1</td>\n",
       "      <td>False</td>\n",
       "    </tr>\n",
       "    <tr>\n",
       "      <th>1</th>\n",
       "      <td>35</td>\n",
       "      <td>107</td>\n",
       "      <td>415</td>\n",
       "      <td>0</td>\n",
       "      <td>1</td>\n",
       "      <td>26</td>\n",
       "      <td>161.6</td>\n",
       "      <td>123</td>\n",
       "      <td>27.47</td>\n",
       "      <td>195.5</td>\n",
       "      <td>103</td>\n",
       "      <td>16.62</td>\n",
       "      <td>254.4</td>\n",
       "      <td>103</td>\n",
       "      <td>11.45</td>\n",
       "      <td>13.7</td>\n",
       "      <td>3</td>\n",
       "      <td>3.70</td>\n",
       "      <td>1</td>\n",
       "      <td>False</td>\n",
       "    </tr>\n",
       "    <tr>\n",
       "      <th>2</th>\n",
       "      <td>31</td>\n",
       "      <td>137</td>\n",
       "      <td>415</td>\n",
       "      <td>0</td>\n",
       "      <td>0</td>\n",
       "      <td>0</td>\n",
       "      <td>243.4</td>\n",
       "      <td>114</td>\n",
       "      <td>41.38</td>\n",
       "      <td>121.2</td>\n",
       "      <td>110</td>\n",
       "      <td>10.30</td>\n",
       "      <td>162.6</td>\n",
       "      <td>104</td>\n",
       "      <td>7.32</td>\n",
       "      <td>12.2</td>\n",
       "      <td>5</td>\n",
       "      <td>3.29</td>\n",
       "      <td>0</td>\n",
       "      <td>False</td>\n",
       "    </tr>\n",
       "  </tbody>\n",
       "</table>\n",
       "</div>"
      ],
      "text/plain": [
       "   state  account_length  area_code  international_plan  voice_mail_plan  \\\n",
       "0     16             128        415                   0                1   \n",
       "1     35             107        415                   0                1   \n",
       "2     31             137        415                   0                0   \n",
       "\n",
       "   number_vmail_messages  total_day_minutes  total_day_calls  \\\n",
       "0                     25              265.1              110   \n",
       "1                     26              161.6              123   \n",
       "2                      0              243.4              114   \n",
       "\n",
       "   total_day_charge  total_eve_minutes  total_eve_calls  total_eve_charge  \\\n",
       "0             45.07              197.4               99             16.78   \n",
       "1             27.47              195.5              103             16.62   \n",
       "2             41.38              121.2              110             10.30   \n",
       "\n",
       "   total_night_minutes  total_night_calls  total_night_charge  \\\n",
       "0                244.7                 91               11.01   \n",
       "1                254.4                103               11.45   \n",
       "2                162.6                104                7.32   \n",
       "\n",
       "   total_intl_minutes  total_intl_calls  total_intl_charge  \\\n",
       "0                10.0                 3               2.70   \n",
       "1                13.7                 3               3.70   \n",
       "2                12.2                 5               3.29   \n",
       "\n",
       "   customer_service_calls  churn  \n",
       "0                       1  False  \n",
       "1                       1  False  \n",
       "2                       0  False  "
      ]
     },
     "execution_count": 9,
     "metadata": {},
     "output_type": "execute_result"
    }
   ],
   "source": [
    "# Apply the preprocessing function to our data\n",
    "\n",
    "pre_df, _ = preprocess_data(df)\n",
    "pre_df.head(3)"
   ]
  },
  {
   "cell_type": "markdown",
   "metadata": {},
   "source": [
    "## Exploratory Data Analysis"
   ]
  },
  {
   "cell_type": "markdown",
   "metadata": {},
   "source": [
    "As noted above, this dataset has 3,333 observations with 21 different features. The only feature that will not be included in the analysis is each observation's phone number as this functions as a unique identifier and thus, does not add value to any predictive model.\n"
   ]
  },
  {
   "cell_type": "markdown",
   "metadata": {
    "ExecuteTime": {
     "end_time": "2022-05-25T20:26:17.479386Z",
     "start_time": "2022-05-25T20:26:17.417051Z"
    }
   },
   "source": [
    "### Data Visualizations"
   ]
  },
  {
   "cell_type": "markdown",
   "metadata": {},
   "source": [
    "**Distribution of Churn**"
   ]
  },
  {
   "cell_type": "code",
   "execution_count": 10,
   "metadata": {
    "ExecuteTime": {
     "end_time": "2022-05-24T18:53:35.547053Z",
     "start_time": "2022-05-24T18:53:35.223508Z"
    }
   },
   "outputs": [
    {
     "data": {
      "image/png": "[encoded data removed]",
      "text/plain": [
       "<Figure size 720x432 with 1 Axes>"
      ]
     },
     "metadata": {
      "needs_background": "light"
     },
     "output_type": "display_data"
    }
   ],
   "source": [
    "sns.set_theme(style = \"whitegrid\")\n",
    "pre_df.groupby([\"churn\"]).size().plot(kind = 'bar', figsize = (10, 6));"
   ]
  },
  {
   "cell_type": "code",
   "execution_count": 11,
   "metadata": {
    "ExecuteTime": {
     "end_time": "2022-05-24T18:53:35.573419Z",
     "start_time": "2022-05-24T18:53:35.550905Z"
    }
   },
   "outputs": [
    {
     "name": "stdout",
     "output_type": "stream",
     "text": [
      "Raw Counts\n",
      "False    2850\n",
      "True      483\n",
      "Name: churn, dtype: int64\n",
      "\n",
      "Percentages\n",
      "False    0.855086\n",
      "True     0.144914\n",
      "Name: churn, dtype: float64\n"
     ]
    }
   ],
   "source": [
    "print(\"Raw Counts\")\n",
    "print(df[\"churn\"].value_counts())\n",
    "print()\n",
    "print(\"Percentages\")\n",
    "print(df[\"churn\"].value_counts(normalize=True))"
   ]
  },
  {
   "cell_type": "markdown",
   "metadata": {},
   "source": [
    "Here we can see of the 3,333 observations (or accounts), 2,850 (86%) have not churned whereas 483 accounts (14%) have churned.\n",
    "\n",
    "Further, this initial visualization indicates that we have an unbalanced dataset; a baseline model that always chooses the majority class (no churn) would have an accuracy of 85.5%. In the modeling to address the business problem, I address the imbalance by using class weights, which will promote the minority class in our analyses, and use the F1 score to measure effectiveness of the models."
   ]
  },
  {
   "cell_type": "markdown",
   "metadata": {},
   "source": [
    "**Churn By State**"
   ]
  },
  {
   "cell_type": "code",
   "execution_count": 73,
   "metadata": {
    "ExecuteTime": {
     "end_time": "2022-05-24T21:23:50.911709Z",
     "start_time": "2022-05-24T21:23:49.287637Z"
    },
    "scrolled": false
   },
   "outputs": [
    {
     "data": {
      "image/png": "[encoded data removed]",
      "text/plain": [
       "<Figure size 2160x1296 with 1 Axes>"
      ]
     },
     "metadata": {
      "needs_background": "light"
     },
     "output_type": "display_data"
    }
   ],
   "source": [
    "df.groupby([\"state\", \"churn\"]).size().unstack().plot(\n",
    "    kind = 'bar', stacked = True, figsize = (30,18));"
   ]
  },
  {
   "cell_type": "markdown",
   "metadata": {},
   "source": [
    "Some states have a smaller proportion of customer churn, such as AK, HI, IA, and LA, whereas other states have a larger proportion of customer churn, such as MD, MI, NJ, TX, and WA. This indicates that `state` will be a feature to include in future analyses for any insight on predicting churn."
   ]
  },
  {
   "cell_type": "markdown",
   "metadata": {},
   "source": [
    "**Churn By Area Code**"
   ]
  },
  {
   "cell_type": "code",
   "execution_count": 13,
   "metadata": {
    "ExecuteTime": {
     "end_time": "2022-05-24T18:53:39.574720Z",
     "start_time": "2022-05-24T18:53:38.968170Z"
    }
   },
   "outputs": [
    {
     "data": {
      "image/png": "[encoded data removed]",
      "text/plain": [
       "<Figure size 720x432 with 1 Axes>"
      ]
     },
     "metadata": {
      "needs_background": "light"
     },
     "output_type": "display_data"
    }
   ],
   "source": [
    "df.groupby([\"area code\", \"churn\"]).size().unstack().plot(\n",
    "    kind = 'bar', stacked = True, figsize = (10, 6));"
   ]
  },
  {
   "cell_type": "markdown",
   "metadata": {},
   "source": [
    "**Churn By International Plan**"
   ]
  },
  {
   "cell_type": "code",
   "execution_count": 14,
   "metadata": {
    "ExecuteTime": {
     "end_time": "2022-05-24T18:53:40.005673Z",
     "start_time": "2022-05-24T18:53:39.577276Z"
    }
   },
   "outputs": [
    {
     "data": {
      "image/png": "[encoded data removed]",
      "text/plain": [
       "<Figure size 720x432 with 1 Axes>"
      ]
     },
     "metadata": {
      "needs_background": "light"
     },
     "output_type": "display_data"
    }
   ],
   "source": [
    "df.groupby([\"international plan\", \"churn\"]).size().unstack().plot(\n",
    "    kind = 'bar', stacked = True, figsize = (10, 6));"
   ]
  },
  {
   "cell_type": "markdown",
   "metadata": {},
   "source": [
    "Customers that have an international plan have a much higher percentage of customer churn than do those without an international plan."
   ]
  },
  {
   "cell_type": "markdown",
   "metadata": {},
   "source": [
    "**Churn By Voice Mail Plan**"
   ]
  },
  {
   "cell_type": "code",
   "execution_count": 15,
   "metadata": {
    "ExecuteTime": {
     "end_time": "2022-05-24T18:53:40.417526Z",
     "start_time": "2022-05-24T18:53:40.028233Z"
    }
   },
   "outputs": [
    {
     "data": {
      "image/png": "[encoded data removed]",
      "text/plain": [
       "<Figure size 720x432 with 1 Axes>"
      ]
     },
     "metadata": {
      "needs_background": "light"
     },
     "output_type": "display_data"
    }
   ],
   "source": [
    "df.groupby([\"voice mail plan\", \"churn\"]).size().unstack().plot(\n",
    "    kind = 'bar', stacked = True, figsize = (10, 6));"
   ]
  },
  {
   "cell_type": "markdown",
   "metadata": {},
   "source": [
    "Customers without a voice mail plan also seem to have a higher proportion of customer than churn than those with voice mail plans."
   ]
  },
  {
   "cell_type": "markdown",
   "metadata": {},
   "source": [
    "**Churn By Customer Service Calls**"
   ]
  },
  {
   "cell_type": "code",
   "execution_count": 16,
   "metadata": {
    "ExecuteTime": {
     "end_time": "2022-05-24T18:53:40.890236Z",
     "start_time": "2022-05-24T18:53:40.427090Z"
    }
   },
   "outputs": [
    {
     "data": {
      "image/png": "[encoded data removed]",
      "text/plain": [
       "<Figure size 720x432 with 1 Axes>"
      ]
     },
     "metadata": {
      "needs_background": "light"
     },
     "output_type": "display_data"
    }
   ],
   "source": [
    "df.groupby([\"customer service calls\", \"churn\"]).size().unstack().plot(\n",
    "    kind = 'bar', stacked = True, figsize = (10, 6));"
   ]
  },
  {
   "cell_type": "markdown",
   "metadata": {},
   "source": [
    "**Distribution of Continuous Features**"
   ]
  },
  {
   "cell_type": "code",
   "execution_count": 17,
   "metadata": {
    "ExecuteTime": {
     "end_time": "2022-05-24T18:53:46.386527Z",
     "start_time": "2022-05-24T18:53:40.898977Z"
    },
    "scrolled": false
   },
   "outputs": [
    {
     "data": {
      "image/png": "[encoded data removed]",
      "text/plain": [
       "<Figure size 1152x1440 with 16 Axes>"
      ]
     },
     "metadata": {
      "needs_background": "light"
     },
     "output_type": "display_data"
    }
   ],
   "source": [
    "df[df.select_dtypes(exclude = object and bool).columns].hist(figsize=(16, 20),\n",
    "                                                        bins = 50, xlabelsize = 8, ylabelsize = 8);"
   ]
  },
  {
   "cell_type": "markdown",
   "metadata": {},
   "source": [
    "While this project does not utilize linear regression and thus distribution normality is not an assumption we need to verify and meet, this visualization is still valuable to identify if there are any significant outliers or skew that may need to be addressed in data processing.\n",
    "\n",
    "***\n",
    "\n",
    "**Finally, a note on the limitations of the dataset:**\n",
    "\n",
    "This dataset does not include any information related to dates, so I do not know how recent or out-of-date the data points are. Not knowing the timeframe of the data may impact conclusions in that data from 20 years ago may not accurately reflect data from 6 months ago.\n"
   ]
  },
  {
   "cell_type": "markdown",
   "metadata": {},
   "source": [
    "# Data Modeling"
   ]
  },
  {
   "cell_type": "markdown",
   "metadata": {},
   "source": [
    "Modeling: Notebook demonstrates an iterative approach to model-building.\n",
    "\n",
    "* Runs and interprets a simple, baseline model for comparison\n",
    "* Introduces new models that improve on prior models and interprets their results\n",
    "\n"
   ]
  },
  {
   "cell_type": "markdown",
   "metadata": {},
   "source": [
    "## Prepare the Data for Modeling"
   ]
  },
  {
   "cell_type": "code",
   "execution_count": 21,
   "metadata": {
    "ExecuteTime": {
     "end_time": "2022-05-24T18:53:46.810411Z",
     "start_time": "2022-05-24T18:53:46.773315Z"
    }
   },
   "outputs": [],
   "source": [
    "# Split the data\n",
    "\n",
    "y = pre_df[\"churn\"]\n",
    "X = pre_df.drop([\"churn\"], axis=1)\n",
    "\n",
    "X_train, X_test, y_train, y_test = train_test_split(X, y, random_state = 47, stratify = y)"
   ]
  },
  {
   "cell_type": "markdown",
   "metadata": {},
   "source": [
    "Here, I set the stratify parameter to \"yes\" because we have an unbalanced dataset. Stratifying our train-test-split ensures that relative class frequencies are approximately preserved in each train and validation fold."
   ]
  },
  {
   "cell_type": "code",
   "execution_count": 22,
   "metadata": {
    "ExecuteTime": {
     "end_time": "2022-05-24T18:53:46.836897Z",
     "start_time": "2022-05-24T18:53:46.819988Z"
    }
   },
   "outputs": [],
   "source": [
    "# Standardize the data\n",
    "\n",
    "# Instantiate StandardScaler\n",
    "scaler = scaler = StandardScaler()\n",
    "\n",
    "# Transform the training and test sets\n",
    "X_train_scaled = scaler.fit_transform(X_train)\n",
    "X_test_scaled = scaler.transform(X_test)"
   ]
  },
  {
   "cell_type": "markdown",
   "metadata": {},
   "source": [
    "## Baseline Model"
   ]
  },
  {
   "cell_type": "markdown",
   "metadata": {},
   "source": [
    "### Decision Tree Stump"
   ]
  },
  {
   "cell_type": "code",
   "execution_count": 246,
   "metadata": {
    "ExecuteTime": {
     "end_time": "2022-05-25T20:30:12.217428Z",
     "start_time": "2022-05-25T20:30:12.206862Z"
    }
   },
   "outputs": [],
   "source": [
    "# Set seed for reproducibility\n",
    "\n",
    "SEED = 47"
   ]
  },
  {
   "cell_type": "code",
   "execution_count": 247,
   "metadata": {
    "ExecuteTime": {
     "end_time": "2022-05-25T20:30:34.196356Z",
     "start_time": "2022-05-25T20:30:34.147690Z"
    }
   },
   "outputs": [],
   "source": [
    "# Write a function that will print the model metrics\n",
    "\n",
    "def print_metrics(clf):\n",
    "    # Predict on training and test sets\n",
    "    training_preds = clf.predict(X_train_scaled)\n",
    "    test_preds = clf.predict(X_test_scaled)\n",
    "    \n",
    "    # F1-score of training and test sets\n",
    "    clf_training_f1 = f1_score(y_train, training_preds)\n",
    "    clf_test_f1 = f1_score(y_test, test_preds)\n",
    "    clf_f1_delta = clf_training_f1 - clf_test_f1\n",
    "    \n",
    "    print('Training F1-Score: {:.2}'.format(clf_training_f1))\n",
    "    print('Validation F1-Score: {:.2}'.format(clf_test_f1))\n",
    "    print('F1-Score Delta: {:.2}'.format(clf_f1_delta))"
   ]
  },
  {
   "cell_type": "code",
   "execution_count": 223,
   "metadata": {
    "ExecuteTime": {
     "end_time": "2022-05-25T00:35:20.094805Z",
     "start_time": "2022-05-25T00:35:20.061185Z"
    },
    "scrolled": true
   },
   "outputs": [
    {
     "name": "stdout",
     "output_type": "stream",
     "text": [
      "Training F1-Score: 0.62\n",
      "Validation F1-Score: 0.56\n",
      "F1-Score Delta: 0.062\n"
     ]
    }
   ],
   "source": [
    "# Initialize the decision tree stump\n",
    "\n",
    "baseline = DecisionTreeClassifier(max_depth = 3,\n",
    "                                  class_weight = 'balanced',\n",
    "                                  random_state = SEED)\n",
    "\n",
    "# Fit the data to the classifier\n",
    "baseline.fit(X_train_scaled, y_train)\n",
    "\n",
    "# Print the metrics\n",
    "print_metrics(baseline)"
   ]
  },
  {
   "cell_type": "markdown",
   "metadata": {},
   "source": [
    "## Vanilla Models"
   ]
  },
  {
   "cell_type": "markdown",
   "metadata": {},
   "source": [
    "In this section, I create vanilla models using a decision tree classifier, logistic regression, k-Nearest Neighbors classifier, random forest classifier, and eXtreme Gradient Boost (XGBoost) classifier.\n",
    "\n",
    "Each model has its own advantages and disadvantages, which is why I will include each to best determine the strongest predictive model for the stakeholder."
   ]
  },
  {
   "cell_type": "code",
   "execution_count": 267,
   "metadata": {
    "ExecuteTime": {
     "end_time": "2022-05-25T20:50:43.281240Z",
     "start_time": "2022-05-25T20:50:43.275235Z"
    }
   },
   "outputs": [],
   "source": [
    "# Write a function to plot the feature importances, used with decision tree,\n",
    "# random forest, and xgboost\n",
    "\n",
    "def plot_feature_importances(model):\n",
    "    sns.set_theme(style = \"whitegrid\")\n",
    "    \n",
    "    pd.Series(model.feature_importances_,\n",
    "              index = X_train.columns).nlargest(5).sort_values(ascending = True).plot(kind = 'barh')\n",
    "    "
   ]
  },
  {
   "cell_type": "markdown",
   "metadata": {},
   "source": [
    "### Decision Tree Classifier\n",
    "\n",
    "[Decision Trees](https://scikit-learn.org/stable/modules/tree.html) are a non-parametric supervised learning method used for classification and regression with the goal of creating a model that predicts the value of a target variable by learning simple decision rules inferred from the data features; in the case of this project, the decision tree classifier will attempt to predict customer churn."
   ]
  },
  {
   "cell_type": "code",
   "execution_count": 224,
   "metadata": {
    "ExecuteTime": {
     "end_time": "2022-05-25T00:35:26.546944Z",
     "start_time": "2022-05-25T00:35:26.480431Z"
    }
   },
   "outputs": [
    {
     "name": "stdout",
     "output_type": "stream",
     "text": [
      "Training F1-Score: 1.0\n",
      "Validation F1-Score: 0.7\n",
      "F1-Score Delta: 0.3\n"
     ]
    }
   ],
   "source": [
    "# Initialize decision tree classifier\n",
    "\n",
    "dt = DecisionTreeClassifier(class_weight = 'balanced',\n",
    "                            random_state = SEED).fit(X_train_scaled, y_train)\n",
    "\n",
    "print_metrics(dt)"
   ]
  },
  {
   "cell_type": "code",
   "execution_count": 266,
   "metadata": {
    "ExecuteTime": {
     "end_time": "2022-05-25T20:49:59.088254Z",
     "start_time": "2022-05-25T20:49:58.864824Z"
    }
   },
   "outputs": [
    {
     "data": {
      "image/png": "[encoded data removed]",
      "text/plain": [
       "<Figure size 432x288 with 1 Axes>"
      ]
     },
     "metadata": {},
     "output_type": "display_data"
    }
   ],
   "source": [
    "# Fit the data to the classifier\n",
    "\n",
    "dt = DecisionTreeClassifier().fit(X_train_scaled, y_train)\n",
    "plot_feature_importances(dt)"
   ]
  },
  {
   "cell_type": "markdown",
   "metadata": {},
   "source": [
    "### Logistic Regression\n",
    "\n",
    "[Logistic regression](https://scikit-learn.org/stable/modules/linear_model.html#logistic-regression) is a linear model that is used for classification and models the probability of one event or class (out of two alternatives) taking place and that the target variable is categorical, e.g., a customer churns (1) or does not churn (0). Thus, logistic regression is an applicable model to our business problem and may be of value."
   ]
  },
  {
   "cell_type": "code",
   "execution_count": 268,
   "metadata": {
    "ExecuteTime": {
     "end_time": "2022-05-25T21:18:53.118547Z",
     "start_time": "2022-05-25T21:18:52.872437Z"
    }
   },
   "outputs": [
    {
     "name": "stdout",
     "output_type": "stream",
     "text": [
      "Training F1-Score: 0.49\n",
      "Validation F1-Score: 0.46\n",
      "F1-Score Delta: 0.029\n"
     ]
    }
   ],
   "source": [
    "# Initialize the logistic regression classifier and fit the data\n",
    "\n",
    "lr = LogisticRegression(class_weight = 'balanced',\n",
    "                        random_state = SEED).fit(X_train_scaled, y_train)\n",
    "\n",
    "print_metrics(lr)"
   ]
  },
  {
   "cell_type": "markdown",
   "metadata": {},
   "source": [
    "### K-Nearest Neighbors Classifier\n",
    "\n",
    "The [neighbors-based classification](https://scikit-learn.org/stable/modules/neighbors.html#classification) is a type of instance-based learning that computes classification from a simple majority vote of the nearest neighbors of each point: a query point is assigned the data class which has the most representatives within the nearest neighbors of the point. For this modeling, $k$-Nearest Neighbors implements learning based on the  nearest neighbors of each query point, where $k$ is an integer value specified by the user."
   ]
  },
  {
   "cell_type": "code",
   "execution_count": 226,
   "metadata": {
    "ExecuteTime": {
     "end_time": "2022-05-25T00:35:40.736866Z",
     "start_time": "2022-05-25T00:35:40.384136Z"
    },
    "scrolled": true
   },
   "outputs": [
    {
     "name": "stdout",
     "output_type": "stream",
     "text": [
      "Training F1-Score: 0.67\n",
      "Validation F1-Score: 0.45\n",
      "F1-Score Delta: 0.22\n"
     ]
    }
   ],
   "source": [
    "# Initialize the KNN classifier and fit the data\n",
    "\n",
    "knn = KNeighborsClassifier().fit(X_train_scaled, y_train)\n",
    "\n",
    "print_metrics(knn)"
   ]
  },
  {
   "cell_type": "markdown",
   "metadata": {},
   "source": [
    "### Random Forest Classifier\n",
    "\n",
    "[Random Forest Classifiers](https://scikit-learn.org/stable/modules/ensemble.html#forest) are a type of ensemble method, which means a diverse set of classifiers is created by introducing randomness in the classifier construction; in this case, he prediction of the ensemble is given as the averaged prediction of the individual decision tree classifiers. In random forests, each tree in the ensemble is built from a sample drawn with replacement (i.e., a bootstrap sample) from the training set."
   ]
  },
  {
   "cell_type": "code",
   "execution_count": 227,
   "metadata": {
    "ExecuteTime": {
     "end_time": "2022-05-25T00:35:43.522895Z",
     "start_time": "2022-05-25T00:35:42.747206Z"
    }
   },
   "outputs": [
    {
     "name": "stdout",
     "output_type": "stream",
     "text": [
      "Training F1-Score: 1.0\n",
      "Validation F1-Score: 0.76\n",
      "F1-Score Delta: 0.24\n"
     ]
    }
   ],
   "source": [
    "# Initialize the random forest classifier and fit the data\n",
    "\n",
    "rf = RandomForestClassifier(class_weight = 'balanced',\n",
    "                            random_state = SEED).fit(X_train_scaled, y_train)\n",
    "\n",
    "print_metrics(rf)"
   ]
  },
  {
   "cell_type": "code",
   "execution_count": 269,
   "metadata": {
    "ExecuteTime": {
     "end_time": "2022-05-25T21:40:02.560730Z",
     "start_time": "2022-05-25T21:40:00.893473Z"
    }
   },
   "outputs": [
    {
     "data": {
      "image/png": "[encoded data removed]",
      "text/plain": [
       "<Figure size 432x288 with 1 Axes>"
      ]
     },
     "metadata": {},
     "output_type": "display_data"
    }
   ],
   "source": [
    "plot_feature_importances(rf)"
   ]
  },
  {
   "cell_type": "markdown",
   "metadata": {},
   "source": [
    "### XGBoost\n",
    "\n",
    "From its documentation, [XGBoost](https://xgboost.readthedocs.io/en/latest/index.html) is an optimized distributed gradient boosting library designed to be highly efficient, flexible and portable. It implements machine learning algorithms under the Gradient Boosting framework.\n",
    "\n",
    "Gradient Boosting alogrithms are a more advanced boosting algorithm that makes use of Gradient Descent. It starts with a weak learner that makes predictions on the dataset. The algorithm then checks this learner's performance, identifying examples that it got right and wrong. The model then calculates the Residuals for each data point, to determine how far off the mark each prediction was. The model then combines these residuals with a Loss Function to calculate the overall loss.\n",
    "\n",
    "XGBoost, or eXtreme Gradient Boosting, provides a parallel tree boosting that solve many data science problems in a fast and accurate way. It is a stand-alone library that implements popular gradient boosting algorithms in the fastest, most performant way possible. In fact, XGBoost provides best-in-class performance compared to other classification algorithms."
   ]
  },
  {
   "cell_type": "code",
   "execution_count": 228,
   "metadata": {
    "ExecuteTime": {
     "end_time": "2022-05-25T00:35:50.967440Z",
     "start_time": "2022-05-25T00:35:50.528319Z"
    }
   },
   "outputs": [
    {
     "name": "stdout",
     "output_type": "stream",
     "text": [
      "Training F1-Score: 1.0\n",
      "Validation F1-Score: 0.8\n",
      "F1-Score Delta: 0.2\n"
     ]
    }
   ],
   "source": [
    "# Instantiate XGBClassifier and and fit the data\n",
    "xgb = XGBClassifier(seed = SEED).fit(X_train_scaled, y_train)\n",
    "\n",
    "print_metrics(xgb)"
   ]
  },
  {
   "cell_type": "code",
   "execution_count": 271,
   "metadata": {
    "ExecuteTime": {
     "end_time": "2022-05-25T21:40:23.642045Z",
     "start_time": "2022-05-25T21:40:23.125549Z"
    }
   },
   "outputs": [
    {
     "data": {
      "image/png": "[encoded data removed]",
      "text/plain": [
       "<Figure size 432x288 with 1 Axes>"
      ]
     },
     "metadata": {},
     "output_type": "display_data"
    }
   ],
   "source": [
    "xgb_clf = XGBClassifier().fit(X_train_scaled, y_train)\n",
    "plot_feature_importances(xgb_clf)"
   ]
  },
  {
   "cell_type": "markdown",
   "metadata": {},
   "source": [
    "### Summary Results Table"
   ]
  },
  {
   "cell_type": "code",
   "execution_count": 272,
   "metadata": {
    "ExecuteTime": {
     "end_time": "2022-05-25T21:41:29.360179Z",
     "start_time": "2022-05-25T21:41:28.834962Z"
    }
   },
   "outputs": [],
   "source": [
    "# Build a table of the results from the set of vanilla models\n",
    "\n",
    "classifiers = [dt, lr, knn, rf, xgb]\n",
    "classifier_names = [\"Decision Tree\", \"Logistic Regression\", \"KNN\", \"Random Forest\", \"XGBoost\"]\n",
    "\n",
    "results_table = pd.DataFrame(columns=[\"Training F1\", \"Validation F1\"])\n",
    "for (i, clf), name in zip(enumerate(classifiers), classifier_names):\n",
    "    X_pred = clf.predict(X_train_scaled)\n",
    "    y_pred = clf.predict(X_test_scaled)\n",
    "    row = []\n",
    "    row.append(f1_score(y_train, X_pred))\n",
    "    row.append(f1_score(y_test, y_pred))\n",
    "    row = [\"%.2f\" % r for r in row]\n",
    "    results_table.loc[name] = row"
   ]
  },
  {
   "cell_type": "code",
   "execution_count": 230,
   "metadata": {
    "ExecuteTime": {
     "end_time": "2022-05-25T00:35:58.618115Z",
     "start_time": "2022-05-25T00:35:58.598932Z"
    }
   },
   "outputs": [
    {
     "data": {
      "text/html": [
       "<div>\n",
       "<style scoped>\n",
       "    .dataframe tbody tr th:only-of-type {\n",
       "        vertical-align: middle;\n",
       "    }\n",
       "\n",
       "    .dataframe tbody tr th {\n",
       "        vertical-align: top;\n",
       "    }\n",
       "\n",
       "    .dataframe thead th {\n",
       "        text-align: right;\n",
       "    }\n",
       "</style>\n",
       "<table border=\"1\" class=\"dataframe\">\n",
       "  <thead>\n",
       "    <tr style=\"text-align: right;\">\n",
       "      <th></th>\n",
       "      <th>Training F1</th>\n",
       "      <th>Validation F1</th>\n",
       "    </tr>\n",
       "  </thead>\n",
       "  <tbody>\n",
       "    <tr>\n",
       "      <th>Decision Tree</th>\n",
       "      <td>1.00</td>\n",
       "      <td>0.70</td>\n",
       "    </tr>\n",
       "    <tr>\n",
       "      <th>Logistic Regression</th>\n",
       "      <td>0.49</td>\n",
       "      <td>0.46</td>\n",
       "    </tr>\n",
       "    <tr>\n",
       "      <th>KNN</th>\n",
       "      <td>0.67</td>\n",
       "      <td>0.45</td>\n",
       "    </tr>\n",
       "    <tr>\n",
       "      <th>Random Forest</th>\n",
       "      <td>1.00</td>\n",
       "      <td>0.76</td>\n",
       "    </tr>\n",
       "    <tr>\n",
       "      <th>XGBoost</th>\n",
       "      <td>1.00</td>\n",
       "      <td>0.80</td>\n",
       "    </tr>\n",
       "  </tbody>\n",
       "</table>\n",
       "</div>"
      ],
      "text/plain": [
       "                    Training F1 Validation F1\n",
       "Decision Tree              1.00          0.70\n",
       "Logistic Regression        0.49          0.46\n",
       "KNN                        0.67          0.45\n",
       "Random Forest              1.00          0.76\n",
       "XGBoost                    1.00          0.80"
      ]
     },
     "execution_count": 230,
     "metadata": {},
     "output_type": "execute_result"
    }
   ],
   "source": [
    "# Display the results table\n",
    "\n",
    "results_table"
   ]
  },
  {
   "cell_type": "markdown",
   "metadata": {},
   "source": [
    "## Preparing for Model Tuning"
   ]
  },
  {
   "cell_type": "markdown",
   "metadata": {},
   "source": [
    "* Explicitly justifies model changes based on the results of prior models and the problem context\n",
    "* Explicitly describes any improvements found from running new models\n",
    "\n",
    "\n",
    "Following the first set of vanilla model scores, there is certainly room for improvement in our predictive modeling. While the vanilla XGBoost model had an F1 score of 0.8 on the testing data, it may be possible with further tuning of all five models that we can improve that F1 score.\n",
    "\n",
    "To best solve our business problem of predicting customer churn, these iterative models will attempt to improve results."
   ]
  },
  {
   "cell_type": "markdown",
   "metadata": {},
   "source": [
    "### Feature Importances\n",
    "\n",
    "[**Feature Importances**](https://towardsdatascience.com/understanding-feature-importance-and-how-to-implement-it-in-python-ff0287b20285) refer to techniques that calculate a score for all the input features for a given model; the scores simply represent the \"importance\" of each feature with a higher score indicating that the specific feature will have a larger effect on the model that is being used to predict a certain variable."
   ]
  },
  {
   "cell_type": "code",
   "execution_count": 275,
   "metadata": {
    "ExecuteTime": {
     "end_time": "2022-05-25T21:47:33.226120Z",
     "start_time": "2022-05-25T21:47:33.195149Z"
    }
   },
   "outputs": [],
   "source": [
    "# Write a function to plot the feature importances, used with decision tree,\n",
    "# random forest, and xgboost\n",
    "\n",
    "def plot_gs_feature_importances(model):\n",
    "    sns.set_theme(style = \"whitegrid\")\n",
    "    \n",
    "    pd.Series(model.best_estimator_.feature_importances_,\n",
    "              index = X_train.columns).nlargest(5).sort_values(ascending = True).plot(kind = 'barh')\n",
    "    "
   ]
  },
  {
   "cell_type": "code",
   "execution_count": 276,
   "metadata": {
    "ExecuteTime": {
     "end_time": "2022-05-25T21:47:59.847832Z",
     "start_time": "2022-05-25T21:47:59.828319Z"
    }
   },
   "outputs": [],
   "source": [
    "# Write a function to print the best parameters found during a GridSearchCV\n",
    "\n",
    "def print_best_params(clf):\n",
    "    best_parameters = clf.best_params_\n",
    "    print('Grid Search found the following optimal parameters: ')\n",
    "    for param_name in sorted(best_parameters.keys()):\n",
    "        print('%s: %r' % (param_name, best_parameters[param_name]))"
   ]
  },
  {
   "cell_type": "markdown",
   "metadata": {},
   "source": [
    "### Classification Report\n",
    "\n",
    "The [**Classification Report**](https://scikit-learn.org/stable/modules/model_evaluation.html#classification-report) is a printed report showing the main classification metrics: precision, recall, and the F1 score, along with the sample size (indicated as 'support').\n",
    "\n",
    "Remember, precision is the ability of the classifier not to label as positive a sample that is negative (what percent of the predictions were correct?), and recall is the ability of the classifier to find all the positive samples (what percent of the positive cases were caught?). The F1 score can be interpreted as a weighted harmonic mean of the precision and recall that reaches its best value at 1 and its worst score at 0.\n",
    "\n",
    "The report also includes the macro average (averaging the unweighted mean per label) and weighted average (averaging the support-weighted mean per label).\n",
    "\n",
    "The classification report is meaningful to this business problem because the model eventually chosen to predict customer churn should correctly determine a given class."
   ]
  },
  {
   "cell_type": "markdown",
   "metadata": {},
   "source": [
    "### Confusion Matrix\n",
    "\n",
    "The [**Confusion Matrix**](https://scikit-learn.org/stable/modules/model_evaluation.html#confusion-matrix) is a function evaluates classification accuracy by computing the confusion matrix with each row corresponding to the true class.\n",
    "\n",
    "The higher the diagonal values of the confusion matrix the better, indicating many correct predictions of True Positives and True Negatives."
   ]
  },
  {
   "cell_type": "code",
   "execution_count": 277,
   "metadata": {
    "ExecuteTime": {
     "end_time": "2022-05-25T21:48:46.490469Z",
     "start_time": "2022-05-25T21:48:46.471017Z"
    }
   },
   "outputs": [],
   "source": [
    "# Write a function to print the model metrics of the model with the best parameters\n",
    "# based on the GridSearch, including confusion matric and classification report\n",
    "\n",
    "def print_gs_metrics(clf):\n",
    "    # Set SNS\n",
    "    sns.set_theme(style = \"white\")\n",
    "\n",
    "    # Predict on training and test sets\n",
    "    training_preds = clf.predict(X_train_scaled)\n",
    "    test_preds = clf.predict(X_test_scaled)\n",
    "    \n",
    "    # F1-score of training and test sets\n",
    "    clf_training_f1 = f1_score(y_train, training_preds)\n",
    "    clf_test_f1 = f1_score(y_test, test_preds)\n",
    "    clf_f1_delta = clf_training_f1 - clf_test_f1\n",
    "    \n",
    "    # Print all scores\n",
    "    print('Training F1-Score: {:.2}'.format(clf_training_f1))\n",
    "    print('Validation F1-Score: {:.2}'.format(clf_test_f1))\n",
    "    print('F1-Score Delta: {:.2}'.format(clf_f1_delta))\n",
    "    \n",
    "    print('\\n','-'*30,'\\n')\n",
    "    \n",
    "    # Print training classification report\n",
    "    print('Training Classification Report')\n",
    "    print(classification_report(y_train, training_preds))\n",
    "    \n",
    "    print('\\n','-'*30,'\\n')\n",
    "    \n",
    "    # Print testing classification report\n",
    "    print('Testing Classification Report')\n",
    "    print(classification_report(y_test, test_preds))\n",
    "    \n",
    "    print('\\n','-'*30,'\\n')\n",
    "        \n",
    "    # Plot testing confusion matrix\n",
    "    print('Confusion Matrix')\n",
    "    plot_confusion_matrix(clf, X_test_scaled, y_test);"
   ]
  },
  {
   "cell_type": "markdown",
   "metadata": {},
   "source": [
    "## Model Tuning"
   ]
  },
  {
   "cell_type": "markdown",
   "metadata": {},
   "source": [
    "### Decision Tree Classifier"
   ]
  },
  {
   "cell_type": "code",
   "execution_count": 284,
   "metadata": {
    "ExecuteTime": {
     "end_time": "2022-05-25T22:24:52.666049Z",
     "start_time": "2022-05-25T22:24:52.605067Z"
    }
   },
   "outputs": [],
   "source": [
    "# Identify parameters to search for the decision tree classifier\n",
    "\n",
    "dt_param_grid = {\n",
    "    'criterion': ['gini', 'entropy'],\n",
    "    'max_depth': [None, 2, 4, 6],\n",
    "    'min_samples_split': [2, 5, 10],\n",
    "    'min_samples_leaf': [1, 3, 5]\n",
    "}"
   ]
  },
  {
   "cell_type": "code",
   "execution_count": 159,
   "metadata": {
    "ExecuteTime": {
     "end_time": "2022-05-24T23:08:05.057734Z",
     "start_time": "2022-05-24T23:07:59.683488Z"
    }
   },
   "outputs": [
    {
     "name": "stdout",
     "output_type": "stream",
     "text": [
      "Grid Search found the following optimal parameters: \n",
      "criterion: 'entropy'\n",
      "max_depth: 6\n",
      "min_samples_leaf: 3\n",
      "min_samples_split: 2\n"
     ]
    }
   ],
   "source": [
    "# Initialize the decision tree classifier, run the GridSearch, and fit the data to the model\n",
    "\n",
    "dt = DecisionTreeClassifier()\n",
    "\n",
    "dt_gs_clf = GridSearchCV(dt, dt_param_grid, scoring = 'f1_weighted')\n",
    "dt_gs_clf.fit(X_train_scaled, y_train)\n",
    "\n",
    "print_best_params(dt_gs_clf)"
   ]
  },
  {
   "cell_type": "code",
   "execution_count": 232,
   "metadata": {
    "ExecuteTime": {
     "end_time": "2022-05-25T00:36:34.465605Z",
     "start_time": "2022-05-25T00:36:34.267086Z"
    }
   },
   "outputs": [
    {
     "name": "stdout",
     "output_type": "stream",
     "text": [
      "Training F1-Score: 0.87\n",
      "Validation F1-Score: 0.74\n",
      "F1-Score Delta: 0.13\n",
      "\n",
      " ------------------------------ \n",
      "\n",
      "Training Classification Report\n",
      "              precision    recall  f1-score   support\n",
      "\n",
      "       False       0.97      0.99      0.98      2137\n",
      "        True       0.93      0.83      0.87       362\n",
      "\n",
      "    accuracy                           0.97      2499\n",
      "   macro avg       0.95      0.91      0.93      2499\n",
      "weighted avg       0.96      0.97      0.96      2499\n",
      "\n",
      "\n",
      " ------------------------------ \n",
      "\n",
      "Testing Classification Report\n",
      "              precision    recall  f1-score   support\n",
      "\n",
      "       False       0.94      0.98      0.96       713\n",
      "        True       0.85      0.66      0.74       121\n",
      "\n",
      "    accuracy                           0.93       834\n",
      "   macro avg       0.90      0.82      0.85       834\n",
      "weighted avg       0.93      0.93      0.93       834\n",
      "\n",
      "\n",
      " ------------------------------ \n",
      "\n",
      "Confusion Matrix\n"
     ]
    },
    {
     "data": {
      "image/png": "[encoded data removed]",
      "text/plain": [
       "<Figure size 432x288 with 2 Axes>"
      ]
     },
     "metadata": {},
     "output_type": "display_data"
    }
   ],
   "source": [
    "print_gs_metrics(dt_gs_clf)"
   ]
  },
  {
   "cell_type": "markdown",
   "metadata": {},
   "source": [
    "#### Results Summary\n",
    "\n",
    "With this iterative model of the decision tree classifer, the F1-score on the training data is 0.87 whereas the F1-score on the test data is 0.74. With a delta of 0.13, this model does seem to be overfitting the data, though its F1-score on the test data is improved from the baseline decision tree model (0.56) and the vanilla decision tree model (0.7)."
   ]
  },
  {
   "cell_type": "code",
   "execution_count": 279,
   "metadata": {
    "ExecuteTime": {
     "end_time": "2022-05-25T21:50:16.266687Z",
     "start_time": "2022-05-25T21:50:16.040654Z"
    }
   },
   "outputs": [
    {
     "data": {
      "image/png": "[encoded data removed]",
      "text/plain": [
       "<Figure size 432x288 with 1 Axes>"
      ]
     },
     "metadata": {},
     "output_type": "display_data"
    }
   ],
   "source": [
    "sns.set_theme(style = \"whitegrid\")\n",
    "plot_gs_feature_importances(dt_gs_clf)"
   ]
  },
  {
   "cell_type": "markdown",
   "metadata": {},
   "source": [
    "The features that have the largest effect on the model are:\n",
    "\n",
    "1. the total amount of money charged by SyriaTel per day\n",
    "2. the number of calls the customer made to customer service\n",
    "3. whether the customer has an international plan\n",
    "4. the total number of international minutes\n",
    "5. the number of international calls"
   ]
  },
  {
   "cell_type": "markdown",
   "metadata": {},
   "source": [
    "### Logistic Regression"
   ]
  },
  {
   "cell_type": "code",
   "execution_count": 163,
   "metadata": {
    "ExecuteTime": {
     "end_time": "2022-05-24T23:14:13.807945Z",
     "start_time": "2022-05-24T23:14:13.787719Z"
    }
   },
   "outputs": [],
   "source": [
    "# Identify parameters to search for the logistic regression model\n",
    "\n",
    "lr_param_grid = {\n",
    "    'C': [1e-1, 1e2, 1e4],\n",
    "    'penalty': ['l2', 'l1', 'elasticnet'],\n",
    "    'solver': ['lbfgs', 'liblinear', 'sag', 'saga'],\n",
    "    'max_iter': [1e-1, 1e2, 1e4]\n",
    "}"
   ]
  },
  {
   "cell_type": "code",
   "execution_count": 164,
   "metadata": {
    "ExecuteTime": {
     "end_time": "2022-05-24T23:18:43.781015Z",
     "start_time": "2022-05-24T23:14:18.180107Z"
    },
    "scrolled": true
   },
   "outputs": [
    {
     "name": "stdout",
     "output_type": "stream",
     "text": [
      "Grid Search found the following optimal parameters: \n",
      "C: 0.1\n",
      "max_iter: 0.1\n",
      "penalty: 'l2'\n",
      "solver: 'lbfgs'\n"
     ]
    }
   ],
   "source": [
    "# Initialize the logistic regression, run the GridSearch, and fit the data to the model\n",
    "\n",
    "lr = LogisticRegression()\n",
    "\n",
    "lr_gs_clf = GridSearchCV(lr, lr_param_grid, scoring = 'f1_weighted')\n",
    "lr_gs_clf.fit(X_train_scaled, y_train)\n",
    "\n",
    "print_best_params(lr_gs_clf)"
   ]
  },
  {
   "cell_type": "code",
   "execution_count": 233,
   "metadata": {
    "ExecuteTime": {
     "end_time": "2022-05-25T00:36:41.066063Z",
     "start_time": "2022-05-25T00:36:40.796881Z"
    }
   },
   "outputs": [
    {
     "name": "stdout",
     "output_type": "stream",
     "text": [
      "Training F1-Score: 0.42\n",
      "Validation F1-Score: 0.34\n",
      "F1-Score Delta: 0.081\n",
      "\n",
      " ------------------------------ \n",
      "\n",
      "Training Classification Report\n",
      "              precision    recall  f1-score   support\n",
      "\n",
      "       False       0.89      0.97      0.93      2137\n",
      "        True       0.63      0.31      0.42       362\n",
      "\n",
      "    accuracy                           0.87      2499\n",
      "   macro avg       0.76      0.64      0.67      2499\n",
      "weighted avg       0.86      0.87      0.86      2499\n",
      "\n",
      "\n",
      " ------------------------------ \n",
      "\n",
      "Testing Classification Report\n",
      "              precision    recall  f1-score   support\n",
      "\n",
      "       False       0.88      0.97      0.92       713\n",
      "        True       0.57      0.24      0.34       121\n",
      "\n",
      "    accuracy                           0.86       834\n",
      "   macro avg       0.73      0.60      0.63       834\n",
      "weighted avg       0.84      0.86      0.84       834\n",
      "\n",
      "\n",
      " ------------------------------ \n",
      "\n",
      "Confusion Matrix\n"
     ]
    },
    {
     "data": {
      "image/png": "[encoded data removed]",
      "text/plain": [
       "<Figure size 432x288 with 2 Axes>"
      ]
     },
     "metadata": {},
     "output_type": "display_data"
    }
   ],
   "source": [
    "print_gs_metrics(lr_gs_clf)"
   ]
  },
  {
   "cell_type": "markdown",
   "metadata": {},
   "source": [
    "#### Results Summary\n",
    "\n",
    "With this iterative model of the logistic regression model, the F1-score on the training data is 0.42 whereas the F1-score on the test data is 0.34. With a delta of 0.08, this model does not seem to be overfitting the data; however, its F1-score on the test data is quite low. It is actually lower than both the baseline decision tree model (0.56) and the vanilla logistic regression model (0.46)."
   ]
  },
  {
   "cell_type": "markdown",
   "metadata": {},
   "source": [
    "### K-Nearest Neighbor Classifier"
   ]
  },
  {
   "cell_type": "code",
   "execution_count": 41,
   "metadata": {
    "ExecuteTime": {
     "end_time": "2022-05-24T18:57:29.207941Z",
     "start_time": "2022-05-24T18:57:29.197870Z"
    }
   },
   "outputs": [],
   "source": [
    "# Identify parameters to search for the KNN classifier model\n",
    "\n",
    "knn_param_grid = {\n",
    "    'n_neighbors': [3, 5, 7],\n",
    "    'algorithm': ['ball_tree', 'kd_tree', 'brute'],\n",
    "    'metric': ['minkowski', 'euclidean', 'manhattan']\n",
    "}"
   ]
  },
  {
   "cell_type": "code",
   "execution_count": 202,
   "metadata": {
    "ExecuteTime": {
     "end_time": "2022-05-25T00:13:22.869252Z",
     "start_time": "2022-05-25T00:13:17.794173Z"
    }
   },
   "outputs": [
    {
     "name": "stdout",
     "output_type": "stream",
     "text": [
      "Grid Search found the following optimal parameters: \n",
      "algorithm: 'ball_tree'\n",
      "metric: 'manhattan'\n",
      "n_neighbors: 3\n"
     ]
    }
   ],
   "source": [
    "# Initialize the KNN classifier, run the GridSearch, and fit the data to the model\n",
    "\n",
    "knn = KNeighborsClassifier()\n",
    "\n",
    "knn_gs_clf = GridSearchCV(knn, knn_param_grid, scoring = 'f1_weighted')\n",
    "knn_gs_clf.fit(X_train_scaled, y_train)\n",
    "\n",
    "print_best_params(knn_gs_clf)"
   ]
  },
  {
   "cell_type": "code",
   "execution_count": 234,
   "metadata": {
    "ExecuteTime": {
     "end_time": "2022-05-25T00:36:47.577410Z",
     "start_time": "2022-05-25T00:36:47.060140Z"
    }
   },
   "outputs": [
    {
     "name": "stdout",
     "output_type": "stream",
     "text": [
      "Training F1-Score: 0.76\n",
      "Validation F1-Score: 0.41\n",
      "F1-Score Delta: 0.35\n",
      "\n",
      " ------------------------------ \n",
      "\n",
      "Training Classification Report\n",
      "              precision    recall  f1-score   support\n",
      "\n",
      "       False       0.94      0.99      0.97      2137\n",
      "        True       0.94      0.64      0.76       362\n",
      "\n",
      "    accuracy                           0.94      2499\n",
      "   macro avg       0.94      0.82      0.86      2499\n",
      "weighted avg       0.94      0.94      0.94      2499\n",
      "\n",
      "\n",
      " ------------------------------ \n",
      "\n",
      "Testing Classification Report\n",
      "              precision    recall  f1-score   support\n",
      "\n",
      "       False       0.89      0.98      0.93       713\n",
      "        True       0.74      0.28      0.41       121\n",
      "\n",
      "    accuracy                           0.88       834\n",
      "   macro avg       0.81      0.63      0.67       834\n",
      "weighted avg       0.87      0.88      0.86       834\n",
      "\n",
      "\n",
      " ------------------------------ \n",
      "\n",
      "Confusion Matrix\n"
     ]
    },
    {
     "data": {
      "image/png": "[encoded data removed]",
      "text/plain": [
       "<Figure size 432x288 with 2 Axes>"
      ]
     },
     "metadata": {},
     "output_type": "display_data"
    }
   ],
   "source": [
    "print_gs_metrics(knn_gs_clf)"
   ]
  },
  {
   "cell_type": "markdown",
   "metadata": {},
   "source": [
    "#### Results Summary\n",
    "\n",
    "With this iterative model of the KNN classifier, the F1-score on the training data is 0.76 whereas the F1-score on the test data is 0.41. With a delta of 0.35, this model does seem to be significantly overfitting the data; in fact, its F1-score on the test data (0.41) is quite low, lower than the baseline decision tree model (0.56) and not all that improved from the vanilla KNN classifier (0.45)."
   ]
  },
  {
   "cell_type": "markdown",
   "metadata": {},
   "source": [
    "### Random Forest Classifier"
   ]
  },
  {
   "cell_type": "code",
   "execution_count": 54,
   "metadata": {
    "ExecuteTime": {
     "end_time": "2022-05-24T18:57:42.460851Z",
     "start_time": "2022-05-24T18:57:42.455618Z"
    }
   },
   "outputs": [],
   "source": [
    "# Identify parameters to search for the random forest classifier model\n",
    "\n",
    "rf_param_grid = {\n",
    "    'criterion': ['gini', 'entropy'],\n",
    "    'max_depth': [None, 2, 4, 6],\n",
    "    'min_samples_split': [2, 5, 10],\n",
    "    'min_samples_leaf': [1, 3, 5]\n",
    "}"
   ]
  },
  {
   "cell_type": "code",
   "execution_count": 204,
   "metadata": {
    "ExecuteTime": {
     "end_time": "2022-05-25T00:15:54.204009Z",
     "start_time": "2022-05-25T00:14:00.878211Z"
    }
   },
   "outputs": [
    {
     "name": "stdout",
     "output_type": "stream",
     "text": [
      "Grid Search found the following optimal parameters: \n",
      "criterion: 'gini'\n",
      "max_depth: None\n",
      "min_samples_leaf: 1\n",
      "min_samples_split: 2\n"
     ]
    }
   ],
   "source": [
    "# Initialize the random forest classifier, run the GridSearch, and fit the data to the model\n",
    "\n",
    "rf = RandomForestClassifier()\n",
    "\n",
    "rf_gs_clf = GridSearchCV(rf, rf_param_grid, scoring = 'f1_weighted')\n",
    "rf_gs_clf.fit(X_train_scaled, y_train)\n",
    "\n",
    "print_best_params(rf_gs_clf)"
   ]
  },
  {
   "cell_type": "code",
   "execution_count": 235,
   "metadata": {
    "ExecuteTime": {
     "end_time": "2022-05-25T00:36:52.323870Z",
     "start_time": "2022-05-25T00:36:52.031377Z"
    }
   },
   "outputs": [
    {
     "name": "stdout",
     "output_type": "stream",
     "text": [
      "Training F1-Score: 1.0\n",
      "Validation F1-Score: 0.77\n",
      "F1-Score Delta: 0.23\n",
      "\n",
      " ------------------------------ \n",
      "\n",
      "Training Classification Report\n",
      "              precision    recall  f1-score   support\n",
      "\n",
      "       False       1.00      1.00      1.00      2137\n",
      "        True       1.00      1.00      1.00       362\n",
      "\n",
      "    accuracy                           1.00      2499\n",
      "   macro avg       1.00      1.00      1.00      2499\n",
      "weighted avg       1.00      1.00      1.00      2499\n",
      "\n",
      "\n",
      " ------------------------------ \n",
      "\n",
      "Testing Classification Report\n",
      "              precision    recall  f1-score   support\n",
      "\n",
      "       False       0.95      0.99      0.97       713\n",
      "        True       0.91      0.66      0.77       121\n",
      "\n",
      "    accuracy                           0.94       834\n",
      "   macro avg       0.93      0.82      0.87       834\n",
      "weighted avg       0.94      0.94      0.94       834\n",
      "\n",
      "\n",
      " ------------------------------ \n",
      "\n",
      "Confusion Matrix\n"
     ]
    },
    {
     "data": {
      "image/png": "[encoded data removed]",
      "text/plain": [
       "<Figure size 432x288 with 2 Axes>"
      ]
     },
     "metadata": {},
     "output_type": "display_data"
    }
   ],
   "source": [
    "print_gs_metrics(rf_gs_clf)"
   ]
  },
  {
   "cell_type": "markdown",
   "metadata": {},
   "source": [
    "#### Results Summary\n",
    "\n",
    "With this iterative model of the random forest classifier, the F1-score on the training data is 0.77 whereas the F1-score on the test data is 1.0. With a delta of 0.23, this model does seem to be significantly overfitting the data; though, its F1-score on the test data (0.77) is good, higher than the baseline decision tree model (0.56) and not much different from the vanilla random forest classifier (0.76)."
   ]
  },
  {
   "cell_type": "code",
   "execution_count": 280,
   "metadata": {
    "ExecuteTime": {
     "end_time": "2022-05-25T21:52:16.834332Z",
     "start_time": "2022-05-25T21:52:16.591329Z"
    }
   },
   "outputs": [
    {
     "data": {
      "image/png": "[encoded data removed]",
      "text/plain": [
       "<Figure size 432x288 with 1 Axes>"
      ]
     },
     "metadata": {},
     "output_type": "display_data"
    }
   ],
   "source": [
    "plot_gs_feature_importances(rf_gs_clf)"
   ]
  },
  {
   "cell_type": "markdown",
   "metadata": {},
   "source": [
    "The features that have the largest effect on the model are:\n",
    "\n",
    "1. the total number of minutes used per day\n",
    "2. the amount of money charged by SyriaTel per day\n",
    "3. the number of calls the customer made to customer service\n",
    "4. whether the customer has an international plan\n",
    "5. total number of minutes used per night.\n",
    "\n",
    "Four of the five top features of this Random Forest classifier are the same as those of the Decision Tree classifier."
   ]
  },
  {
   "cell_type": "markdown",
   "metadata": {},
   "source": [
    "### XGBoost"
   ]
  },
  {
   "cell_type": "code",
   "execution_count": 286,
   "metadata": {
    "ExecuteTime": {
     "end_time": "2022-05-25T23:35:35.132405Z",
     "start_time": "2022-05-25T23:35:35.080083Z"
    }
   },
   "outputs": [],
   "source": [
    "# Identify parameters to search for the XGBoost classifier model\n",
    "\n",
    "xgb_param_grid = {\n",
    "    'learning_rate': [0.1, 0.2],\n",
    "    'max_depth': [2, 6, 10],\n",
    "    'min_child_weight': [0, 1, 2],\n",
    "    'subsample': [0.3, 0.5, 0.7],\n",
    "    'n_estimators': [10, 30, 100],\n",
    "}"
   ]
  },
  {
   "cell_type": "code",
   "execution_count": 287,
   "metadata": {
    "ExecuteTime": {
     "end_time": "2022-05-25T23:36:54.164779Z",
     "start_time": "2022-05-25T23:35:37.633316Z"
    }
   },
   "outputs": [
    {
     "name": "stdout",
     "output_type": "stream",
     "text": [
      "Grid Search found the following optimal parameters: \n",
      "criterion: 'gini'\n",
      "max_depth: None\n",
      "min_samples_leaf: 1\n",
      "min_samples_split: 2\n"
     ]
    }
   ],
   "source": [
    "# Initialize the XGBoost classifier, run the GridSearch, and fit the data to the model\n",
    "\n",
    "xgb_clf = XGBClassifier()\n",
    "\n",
    "xgb_gs_clf = GridSearchCV(xgb_clf, xgb_param_grid, scoring = 'f1_weighted')\n",
    "xgb_gs_clf.fit(X_train_scaled, y_train)\n",
    "\n",
    "print_best_params(rf_gs_clf)"
   ]
  },
  {
   "cell_type": "code",
   "execution_count": 236,
   "metadata": {
    "ExecuteTime": {
     "end_time": "2022-05-25T00:36:59.347606Z",
     "start_time": "2022-05-25T00:36:58.908527Z"
    }
   },
   "outputs": [
    {
     "name": "stdout",
     "output_type": "stream",
     "text": [
      "Training F1-Score: 0.93\n",
      "Validation F1-Score: 0.79\n",
      "F1-Score Delta: 0.14\n",
      "\n",
      " ------------------------------ \n",
      "\n",
      "Training Classification Report\n",
      "              precision    recall  f1-score   support\n",
      "\n",
      "       False       0.98      1.00      0.99      2137\n",
      "        True       1.00      0.88      0.93       362\n",
      "\n",
      "    accuracy                           0.98      2499\n",
      "   macro avg       0.99      0.94      0.96      2499\n",
      "weighted avg       0.98      0.98      0.98      2499\n",
      "\n",
      "\n",
      " ------------------------------ \n",
      "\n",
      "Testing Classification Report\n",
      "              precision    recall  f1-score   support\n",
      "\n",
      "       False       0.95      0.98      0.97       713\n",
      "        True       0.89      0.72      0.79       121\n",
      "\n",
      "    accuracy                           0.95       834\n",
      "   macro avg       0.92      0.85      0.88       834\n",
      "weighted avg       0.94      0.95      0.94       834\n",
      "\n",
      "\n",
      " ------------------------------ \n",
      "\n",
      "Confusion Matrix\n"
     ]
    },
    {
     "data": {
      "image/png": "[encoded data removed]",
      "text/plain": [
       "<Figure size 432x288 with 2 Axes>"
      ]
     },
     "metadata": {},
     "output_type": "display_data"
    }
   ],
   "source": [
    "print_gs_metrics(xgb_gs_clf)"
   ]
  },
  {
   "cell_type": "markdown",
   "metadata": {},
   "source": [
    "#### Results Summary\n",
    "\n",
    "With this iterative model of the XGBoost classifier, the F1-score on the training data is 0.93 whereas the F1-score on the test data is 0.79. With a delta of 0.14, this model does seem to be  overfitting the data; though, its F1-score on the test data (0.79) is the best achieved yet, higher than the baseline decision tree model (0.56) and not much different from the vanilla XGBoost classifier (0.80)."
   ]
  },
  {
   "cell_type": "code",
   "execution_count": 281,
   "metadata": {
    "ExecuteTime": {
     "end_time": "2022-05-25T21:52:57.236308Z",
     "start_time": "2022-05-25T21:52:56.939328Z"
    }
   },
   "outputs": [
    {
     "data": {
      "image/png": "[encoded data removed]",
      "text/plain": [
       "<Figure size 432x288 with 1 Axes>"
      ]
     },
     "metadata": {},
     "output_type": "display_data"
    }
   ],
   "source": [
    "plot_gs_feature_importances(xgb_gs_clf)"
   ]
  },
  {
   "cell_type": "markdown",
   "metadata": {},
   "source": [
    "The features that have the largest effect on this XGBoost model are:\n",
    "\n",
    "1. the number of calls the customer made to customer service\n",
    "2. whether the customer has a voice mail plan\n",
    "3. the total number of minutes used per day \n",
    "4. whether the customer has an international plan\n",
    "5. the total number of international calls made \n",
    "\n",
    "Two of the five top features of this XGBoost classifier are the same as those of both the Decision Tree classifier and Random Forest classifier (number of calls made to customer service and whether the customer has an international plan)."
   ]
  },
  {
   "cell_type": "markdown",
   "metadata": {},
   "source": [
    "### Summary Results Table"
   ]
  },
  {
   "cell_type": "code",
   "execution_count": 282,
   "metadata": {
    "ExecuteTime": {
     "end_time": "2022-05-25T21:54:02.772437Z",
     "start_time": "2022-05-25T21:54:02.487656Z"
    }
   },
   "outputs": [],
   "source": [
    "# Build a table of the results from the set of tuned models\n",
    "\n",
    "classifiers = [lr_gs_clf, knn_gs_clf, dt_gs_clf, rf_gs_clf, xgb_gs_clf]\n",
    "classifier_names = [\"Logistic Regression\", \"KNN\", \"Decision Tree\", \"Random Forest\", \"XGBoost\"]\n",
    "\n",
    "accs = []\n",
    "recalls = []\n",
    "precision = []\n",
    "results_table = pd.DataFrame(columns=[\"accuracy\", \"precision\", \"recall\", \"f1\"])\n",
    "for (i, clf), name in zip(enumerate(classifiers), classifier_names):\n",
    "    y_pred = clf.predict(X_test_scaled)\n",
    "    row = []\n",
    "    row.append(accuracy_score(y_test, y_pred))\n",
    "    row.append(precision_score(y_test, y_pred))\n",
    "    row.append(recall_score(y_test, y_pred))\n",
    "    row.append(f1_score(y_test, y_pred))\n",
    "    row = [\"%.3f\" % r for r in row]\n",
    "    results_table.loc[name] = row"
   ]
  },
  {
   "cell_type": "code",
   "execution_count": 283,
   "metadata": {
    "ExecuteTime": {
     "end_time": "2022-05-25T21:54:05.788468Z",
     "start_time": "2022-05-25T21:54:05.765512Z"
    }
   },
   "outputs": [
    {
     "data": {
      "text/html": [
       "<div>\n",
       "<style scoped>\n",
       "    .dataframe tbody tr th:only-of-type {\n",
       "        vertical-align: middle;\n",
       "    }\n",
       "\n",
       "    .dataframe tbody tr th {\n",
       "        vertical-align: top;\n",
       "    }\n",
       "\n",
       "    .dataframe thead th {\n",
       "        text-align: right;\n",
       "    }\n",
       "</style>\n",
       "<table border=\"1\" class=\"dataframe\">\n",
       "  <thead>\n",
       "    <tr style=\"text-align: right;\">\n",
       "      <th></th>\n",
       "      <th>accuracy</th>\n",
       "      <th>precision</th>\n",
       "      <th>recall</th>\n",
       "      <th>f1</th>\n",
       "    </tr>\n",
       "  </thead>\n",
       "  <tbody>\n",
       "    <tr>\n",
       "      <th>Logistic Regression</th>\n",
       "      <td>0.863</td>\n",
       "      <td>0.569</td>\n",
       "      <td>0.240</td>\n",
       "      <td>0.337</td>\n",
       "    </tr>\n",
       "    <tr>\n",
       "      <th>KNN</th>\n",
       "      <td>0.881</td>\n",
       "      <td>0.739</td>\n",
       "      <td>0.281</td>\n",
       "      <td>0.407</td>\n",
       "    </tr>\n",
       "    <tr>\n",
       "      <th>Decision Tree</th>\n",
       "      <td>0.934</td>\n",
       "      <td>0.851</td>\n",
       "      <td>0.661</td>\n",
       "      <td>0.744</td>\n",
       "    </tr>\n",
       "    <tr>\n",
       "      <th>Random Forest</th>\n",
       "      <td>0.941</td>\n",
       "      <td>0.909</td>\n",
       "      <td>0.661</td>\n",
       "      <td>0.766</td>\n",
       "    </tr>\n",
       "    <tr>\n",
       "      <th>XGBoost</th>\n",
       "      <td>0.946</td>\n",
       "      <td>0.888</td>\n",
       "      <td>0.719</td>\n",
       "      <td>0.795</td>\n",
       "    </tr>\n",
       "  </tbody>\n",
       "</table>\n",
       "</div>"
      ],
      "text/plain": [
       "                    accuracy precision recall     f1\n",
       "Logistic Regression    0.863     0.569  0.240  0.337\n",
       "KNN                    0.881     0.739  0.281  0.407\n",
       "Decision Tree          0.934     0.851  0.661  0.744\n",
       "Random Forest          0.941     0.909  0.661  0.766\n",
       "XGBoost                0.946     0.888  0.719  0.795"
      ]
     },
     "execution_count": 283,
     "metadata": {},
     "output_type": "execute_result"
    }
   ],
   "source": [
    "results_table"
   ]
  },
  {
   "cell_type": "markdown",
   "metadata": {},
   "source": [
    "# Evaluation\n"
   ]
  },
  {
   "cell_type": "code",
   "execution_count": 285,
   "metadata": {
    "ExecuteTime": {
     "end_time": "2022-05-25T23:24:52.014120Z",
     "start_time": "2022-05-25T23:24:51.908544Z"
    }
   },
   "outputs": [],
   "source": [
    "# Write a function to compare baseline and final/best model\n",
    "\n",
    "def print_final_metrics(clf):\n",
    "    # Set SNS\n",
    "    sns.set_theme(style = \"white\")\n",
    "\n",
    "    # Predict on training and test sets\n",
    "    training_preds = clf.predict(X_train_scaled)\n",
    "    test_preds = clf.predict(X_test_scaled)\n",
    "    \n",
    "    # F1-score of training and test sets\n",
    "    clf_training_f1 = f1_score(y_train, training_preds)\n",
    "    clf_test_f1 = f1_score(y_test, test_preds)\n",
    "    clf_f1_delta = clf_training_f1 - clf_test_f1\n",
    "    \n",
    "    # Print all scores\n",
    "    print('Training F1-Score: {:.2}'.format(clf_training_f1))\n",
    "    print('Validation F1-Score: {:.2}'.format(clf_test_f1))\n",
    "    print('F1-Score Delta: {:.2}'.format(clf_f1_delta))\n",
    "    \n",
    "    print('\\n','-'*30,'\\n')\n",
    "    \n",
    "    # Print training classification report\n",
    "    print('Training Classification Report')\n",
    "    print(classification_report(y_train, training_preds))\n",
    "    \n",
    "    print('\\n','-'*30,'\\n')\n",
    "    \n",
    "    # Print testing classification report\n",
    "    print('Testing Classification Report')\n",
    "    print(classification_report(y_test, test_preds))\n",
    "    \n",
    "    print('\\n','-'*30,'\\n')\n",
    "        \n",
    "    # Plot testing confusion matrix\n",
    "    print('Confusion Matrix')\n",
    "    plot_confusion_matrix(clf, X_test_scaled, y_test);"
   ]
  },
  {
   "cell_type": "code",
   "execution_count": 243,
   "metadata": {
    "ExecuteTime": {
     "end_time": "2022-05-25T12:17:30.375271Z",
     "start_time": "2022-05-25T12:17:30.102487Z"
    }
   },
   "outputs": [
    {
     "name": "stdout",
     "output_type": "stream",
     "text": [
      "Baseline Model Metrics\n",
      "Training F1-Score: 0.62\n",
      "Validation F1-Score: 0.56\n",
      "F1-Score Delta: 0.062\n",
      "\n",
      " ------------------------------ \n",
      "\n",
      "Training Classification Report\n",
      "              precision    recall  f1-score   support\n",
      "\n",
      "       False       0.97      0.85      0.91      2137\n",
      "        True       0.49      0.85      0.62       362\n",
      "\n",
      "    accuracy                           0.85      2499\n",
      "   macro avg       0.73      0.85      0.76      2499\n",
      "weighted avg       0.90      0.85      0.86      2499\n",
      "\n",
      "\n",
      " ------------------------------ \n",
      "\n",
      "Testing Classification Report\n",
      "              precision    recall  f1-score   support\n",
      "\n",
      "       False       0.95      0.83      0.89       713\n",
      "        True       0.44      0.76      0.56       121\n",
      "\n",
      "    accuracy                           0.82       834\n",
      "   macro avg       0.70      0.80      0.72       834\n",
      "weighted avg       0.88      0.82      0.84       834\n",
      "\n",
      "\n",
      " ------------------------------ \n",
      "\n",
      "Confusion Matrix\n"
     ]
    },
    {
     "data": {
      "image/png": "[encoded data removed]",
      "text/plain": [
       "<Figure size 432x288 with 2 Axes>"
      ]
     },
     "metadata": {},
     "output_type": "display_data"
    }
   ],
   "source": [
    "print('Baseline Model Metrics')\n",
    "print_final_metrics(baseline)"
   ]
  },
  {
   "cell_type": "code",
   "execution_count": 244,
   "metadata": {
    "ExecuteTime": {
     "end_time": "2022-05-25T12:17:35.154901Z",
     "start_time": "2022-05-25T12:17:34.873131Z"
    }
   },
   "outputs": [
    {
     "name": "stdout",
     "output_type": "stream",
     "text": [
      "Final Model Metrics\n",
      "Training F1-Score: 0.93\n",
      "Validation F1-Score: 0.79\n",
      "F1-Score Delta: 0.14\n",
      "\n",
      " ------------------------------ \n",
      "\n",
      "Training Classification Report\n",
      "              precision    recall  f1-score   support\n",
      "\n",
      "       False       0.98      1.00      0.99      2137\n",
      "        True       1.00      0.88      0.93       362\n",
      "\n",
      "    accuracy                           0.98      2499\n",
      "   macro avg       0.99      0.94      0.96      2499\n",
      "weighted avg       0.98      0.98      0.98      2499\n",
      "\n",
      "\n",
      " ------------------------------ \n",
      "\n",
      "Testing Classification Report\n",
      "              precision    recall  f1-score   support\n",
      "\n",
      "       False       0.95      0.98      0.97       713\n",
      "        True       0.89      0.72      0.79       121\n",
      "\n",
      "    accuracy                           0.95       834\n",
      "   macro avg       0.92      0.85      0.88       834\n",
      "weighted avg       0.94      0.95      0.94       834\n",
      "\n",
      "\n",
      " ------------------------------ \n",
      "\n",
      "Confusion Matrix\n"
     ]
    },
    {
     "data": {
      "image/png": "[encoded data removed]",
      "text/plain": [
       "<Figure size 432x288 with 2 Axes>"
      ]
     },
     "metadata": {},
     "output_type": "display_data"
    }
   ],
   "source": [
    "print('Final Model Metrics')\n",
    "print_final_metrics(xgb_gs_clf)"
   ]
  },
  {
   "cell_type": "markdown",
   "metadata": {},
   "source": [
    "* **Justifies choice of metrics using context of the real-world problem and consequences of errors**\n",
    "\n",
    "The final model selected to address the business problem of predicting customer churn is the tuned XGBoost classifier. Remember, the XGBoost classifier provides parallel tree boosting that can solve many data science problems in a fast and accurate way. \n",
    "\n",
    "A couple limitations of XGBoost that must be noted: XGBoost is more likely to overfit than bagging does (i.e. random forest) and it does not perform as well on sparse and unstructured data. However, in this business case, our data is robust with few outliers (based on exploratory analysis) and a selection of hyperparameters that perform the best.\n",
    "\n",
    "* **Identifies one final model based on performance on the chosen metrics with validation data**\n",
    "* **Evaluates the performance of the final model using holdout test data**\n",
    "\n",
    "On the validation/test data, the XGBoost model has an F1 score of 0.79, which is the highest F1 score produced from the models run in this analysis.\n",
    "\n",
    "* **Discusses implications of the final model evaluation for solving the real-world problem**\n",
    "\n"
   ]
  },
  {
   "cell_type": "code",
   "execution_count": null,
   "metadata": {},
   "outputs": [],
   "source": []
  },
  {
   "cell_type": "code",
   "execution_count": null,
   "metadata": {},
   "outputs": [],
   "source": []
  },
  {
   "cell_type": "code",
   "execution_count": null,
   "metadata": {},
   "outputs": [],
   "source": []
  },
  {
   "cell_type": "code",
   "execution_count": null,
   "metadata": {},
   "outputs": [],
   "source": []
  }
 ],
 "metadata": {
  "kernelspec": {
   "display_name": "Python 3",
   "language": "python",
   "name": "python3"
  },
  "language_info": {
   "codemirror_mode": {
    "name": "ipython",
    "version": 3
   },
   "file_extension": ".py",
   "mimetype": "text/x-python",
   "name": "python",
   "nbconvert_exporter": "python",
   "pygments_lexer": "ipython3",
   "version": "3.8.5"
  },
  "toc": {
   "base_numbering": 1,
   "nav_menu": {},
   "number_sections": true,
   "sideBar": true,
   "skip_h1_title": false,
   "title_cell": "Table of Contents",
   "title_sidebar": "Contents",
   "toc_cell": false,
   "toc_position": {
    "height": "calc(100% - 180px)",
    "left": "10px",
    "top": "150px",
    "width": "238px"
   },
   "toc_section_display": true,
   "toc_window_display": true
  }
 },
 "nbformat": 4,
 "nbformat_minor": 4
}
