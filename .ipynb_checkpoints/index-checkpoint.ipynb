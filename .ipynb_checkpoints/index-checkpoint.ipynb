{
 "cells": [
  {
   "cell_type": "markdown",
   "metadata": {},
   "source": [
    "# Predicting Telecommunications Customer Churn\n",
    "\n",
    "According to [Profitwell](https://www.profitwell.com/customer-retention/industry-rates), the average churn rate within the telecommunications industry is 22% (churn rate referring to the rate customers close their accounts or end their business relationship). This project develops a machine learning classification algorithm to predict customer churn."
   ]
  },
  {
   "cell_type": "markdown",
   "metadata": {},
   "source": [
    "# Business Understanding\n",
    "\n",
    "The telecommunications company, SyriaTel, is faced with the problem of better predicting when its customers will soon churn. They need a solution that will predict whether a customer will (\"soon\") stop doing business with SyriaTel. This will be valuable to SyriaTel, so that they may better understand their churn rate and identify areas they may address to improve its churn rate.\n",
    "\n",
    "Finding predictable patterns using a classification model will benefit SyriaTel's business practices to minimize customer churn.\n",
    "\n",
    "To determine which classification model best predicts potential customer churn, **I will evaluate models' performance using the F1 score**. More on this metric to follow. "
   ]
  },
  {
   "cell_type": "markdown",
   "metadata": {},
   "source": [
    "# Data Understanding\n",
    "\n",
    "The data source for this project comes from [SyriaTel's churn data](https://www.kaggle.com/datasets/becksddf/churn-in-telecoms-dataset). This data is suitable for the project because it includes key performance indicators and data points from SyriaTel related to its customers and their accounts as well as whether the customer churned or not.\n",
    "\n",
    "The data consists of 3,333 observations with 21 features and no missing values.\n",
    "\n",
    "**Explanation of Features**\n",
    "\n",
    "* `state`: the state the user lives in\n",
    "* `account length`: the number of days the user has this account\n",
    "* `area code`: the code of the area the user lives in\n",
    "* `phone number`: the phone number of the user\n",
    "* `international plan`: true if the user has the international plan, otherwise false\n",
    "* `voice mail plan`: true if the user has the voice mail plan, otherwise false\n",
    "* `number vmail messages`: the number of voice mail messages the user has sent\n",
    "* `total day minutes`: total number of minutes the user has been in calls during the day\n",
    "* `total day calls`: total number of calls the user has done during the day\n",
    "* `total day charge`: total amount of money the user was charged by the Telecom company for calls during the day\n",
    "* `total eve minutes`: total number of minutes the user has been in calls during the evening\n",
    "* `total eve calls`: total number of calls the user has done during the evening\n",
    "* `total eve charge`: total amount of money the user was charged by the Telecom company for calls during the evening\n",
    "* `total night minutes`: total number of minutes the user has been in calls during the night\n",
    "* `total night calls`: total number of calls the user has done during the night\n",
    "* `total night charge`: total amount of money the user was charged by the Telecom company for calls during the night\n",
    "* `total intl minutes`: total number of minutes the user has been in international calls\n",
    "* `total intl calls`: total number of international calls the user has done\n",
    "* `total intl charge`: total amount of money the user was charged by the Telecom company for international calls\n",
    "* `customer service calls`: number of customer service calls the user has done\n",
    "* `churn`: true if the user terminated the contract, otherwise false\n",
    "\n",
    "\n",
    "Further descriptive statistics to follow."
   ]
  },
  {
   "cell_type": "markdown",
   "metadata": {},
   "source": [
    "# Data Preparation"
   ]
  },
  {
   "cell_type": "markdown",
   "metadata": {},
   "source": [
    "## Importing Libraries and Data"
   ]
  },
  {
   "cell_type": "code",
   "execution_count": 166,
   "metadata": {
    "ExecuteTime": {
     "end_time": "2022-05-24T23:19:36.723468Z",
     "start_time": "2022-05-24T23:19:36.580321Z"
    }
   },
   "outputs": [],
   "source": [
    "# Import needed base libraries\n",
    "\n",
    "import pandas as pd\n",
    "import numpy as np\n",
    "import matplotlib.pyplot as plt\n",
    "import seaborn as sns\n",
    "\n",
    "# Import machine learning libraries\n",
    "\n",
    "from sklearn.preprocessing import LabelEncoder\n",
    "from sklearn.model_selection import train_test_split\n",
    "from sklearn.preprocessing import StandardScaler\n",
    "from sklearn.neighbors import KNeighborsClassifier\n",
    "from sklearn.tree import DecisionTreeClassifier\n",
    "from xgboost import XGBClassifier\n",
    "from sklearn.metrics import plot_confusion_matrix, f1_score, classification_report\n",
    "from sklearn.model_selection import GridSearchCV\n",
    "from sklearn.ensemble import RandomForestClassifier\n",
    "from sklearn.linear_model import LogisticRegression\n",
    "\n",
    "\n",
    "import warnings\n",
    "warnings.filterwarnings('ignore')\n",
    "%matplotlib inline"
   ]
  },
  {
   "cell_type": "code",
   "execution_count": 2,
   "metadata": {
    "ExecuteTime": {
     "end_time": "2022-05-24T18:53:34.831417Z",
     "start_time": "2022-05-24T18:53:34.777205Z"
    }
   },
   "outputs": [],
   "source": [
    "# Import dataset\n",
    "\n",
    "df = pd.read_csv('telecom.csv')"
   ]
  },
  {
   "cell_type": "code",
   "execution_count": 3,
   "metadata": {
    "ExecuteTime": {
     "end_time": "2022-05-24T18:53:34.970502Z",
     "start_time": "2022-05-24T18:53:34.922678Z"
    }
   },
   "outputs": [
    {
     "data": {
      "text/html": [
       "<div>\n",
       "<style scoped>\n",
       "    .dataframe tbody tr th:only-of-type {\n",
       "        vertical-align: middle;\n",
       "    }\n",
       "\n",
       "    .dataframe tbody tr th {\n",
       "        vertical-align: top;\n",
       "    }\n",
       "\n",
       "    .dataframe thead th {\n",
       "        text-align: right;\n",
       "    }\n",
       "</style>\n",
       "<table border=\"1\" class=\"dataframe\">\n",
       "  <thead>\n",
       "    <tr style=\"text-align: right;\">\n",
       "      <th></th>\n",
       "      <th>state</th>\n",
       "      <th>account length</th>\n",
       "      <th>area code</th>\n",
       "      <th>phone number</th>\n",
       "      <th>international plan</th>\n",
       "      <th>voice mail plan</th>\n",
       "      <th>number vmail messages</th>\n",
       "      <th>total day minutes</th>\n",
       "      <th>total day calls</th>\n",
       "      <th>total day charge</th>\n",
       "      <th>...</th>\n",
       "      <th>total eve calls</th>\n",
       "      <th>total eve charge</th>\n",
       "      <th>total night minutes</th>\n",
       "      <th>total night calls</th>\n",
       "      <th>total night charge</th>\n",
       "      <th>total intl minutes</th>\n",
       "      <th>total intl calls</th>\n",
       "      <th>total intl charge</th>\n",
       "      <th>customer service calls</th>\n",
       "      <th>churn</th>\n",
       "    </tr>\n",
       "  </thead>\n",
       "  <tbody>\n",
       "    <tr>\n",
       "      <th>0</th>\n",
       "      <td>KS</td>\n",
       "      <td>128</td>\n",
       "      <td>415</td>\n",
       "      <td>382-4657</td>\n",
       "      <td>no</td>\n",
       "      <td>yes</td>\n",
       "      <td>25</td>\n",
       "      <td>265.1</td>\n",
       "      <td>110</td>\n",
       "      <td>45.07</td>\n",
       "      <td>...</td>\n",
       "      <td>99</td>\n",
       "      <td>16.78</td>\n",
       "      <td>244.7</td>\n",
       "      <td>91</td>\n",
       "      <td>11.01</td>\n",
       "      <td>10.0</td>\n",
       "      <td>3</td>\n",
       "      <td>2.70</td>\n",
       "      <td>1</td>\n",
       "      <td>False</td>\n",
       "    </tr>\n",
       "    <tr>\n",
       "      <th>1</th>\n",
       "      <td>OH</td>\n",
       "      <td>107</td>\n",
       "      <td>415</td>\n",
       "      <td>371-7191</td>\n",
       "      <td>no</td>\n",
       "      <td>yes</td>\n",
       "      <td>26</td>\n",
       "      <td>161.6</td>\n",
       "      <td>123</td>\n",
       "      <td>27.47</td>\n",
       "      <td>...</td>\n",
       "      <td>103</td>\n",
       "      <td>16.62</td>\n",
       "      <td>254.4</td>\n",
       "      <td>103</td>\n",
       "      <td>11.45</td>\n",
       "      <td>13.7</td>\n",
       "      <td>3</td>\n",
       "      <td>3.70</td>\n",
       "      <td>1</td>\n",
       "      <td>False</td>\n",
       "    </tr>\n",
       "    <tr>\n",
       "      <th>2</th>\n",
       "      <td>NJ</td>\n",
       "      <td>137</td>\n",
       "      <td>415</td>\n",
       "      <td>358-1921</td>\n",
       "      <td>no</td>\n",
       "      <td>no</td>\n",
       "      <td>0</td>\n",
       "      <td>243.4</td>\n",
       "      <td>114</td>\n",
       "      <td>41.38</td>\n",
       "      <td>...</td>\n",
       "      <td>110</td>\n",
       "      <td>10.30</td>\n",
       "      <td>162.6</td>\n",
       "      <td>104</td>\n",
       "      <td>7.32</td>\n",
       "      <td>12.2</td>\n",
       "      <td>5</td>\n",
       "      <td>3.29</td>\n",
       "      <td>0</td>\n",
       "      <td>False</td>\n",
       "    </tr>\n",
       "    <tr>\n",
       "      <th>3</th>\n",
       "      <td>OH</td>\n",
       "      <td>84</td>\n",
       "      <td>408</td>\n",
       "      <td>375-9999</td>\n",
       "      <td>yes</td>\n",
       "      <td>no</td>\n",
       "      <td>0</td>\n",
       "      <td>299.4</td>\n",
       "      <td>71</td>\n",
       "      <td>50.90</td>\n",
       "      <td>...</td>\n",
       "      <td>88</td>\n",
       "      <td>5.26</td>\n",
       "      <td>196.9</td>\n",
       "      <td>89</td>\n",
       "      <td>8.86</td>\n",
       "      <td>6.6</td>\n",
       "      <td>7</td>\n",
       "      <td>1.78</td>\n",
       "      <td>2</td>\n",
       "      <td>False</td>\n",
       "    </tr>\n",
       "    <tr>\n",
       "      <th>4</th>\n",
       "      <td>OK</td>\n",
       "      <td>75</td>\n",
       "      <td>415</td>\n",
       "      <td>330-6626</td>\n",
       "      <td>yes</td>\n",
       "      <td>no</td>\n",
       "      <td>0</td>\n",
       "      <td>166.7</td>\n",
       "      <td>113</td>\n",
       "      <td>28.34</td>\n",
       "      <td>...</td>\n",
       "      <td>122</td>\n",
       "      <td>12.61</td>\n",
       "      <td>186.9</td>\n",
       "      <td>121</td>\n",
       "      <td>8.41</td>\n",
       "      <td>10.1</td>\n",
       "      <td>3</td>\n",
       "      <td>2.73</td>\n",
       "      <td>3</td>\n",
       "      <td>False</td>\n",
       "    </tr>\n",
       "  </tbody>\n",
       "</table>\n",
       "<p>5 rows × 21 columns</p>\n",
       "</div>"
      ],
      "text/plain": [
       "  state  account length  area code phone number international plan  \\\n",
       "0    KS             128        415     382-4657                 no   \n",
       "1    OH             107        415     371-7191                 no   \n",
       "2    NJ             137        415     358-1921                 no   \n",
       "3    OH              84        408     375-9999                yes   \n",
       "4    OK              75        415     330-6626                yes   \n",
       "\n",
       "  voice mail plan  number vmail messages  total day minutes  total day calls  \\\n",
       "0             yes                     25              265.1              110   \n",
       "1             yes                     26              161.6              123   \n",
       "2              no                      0              243.4              114   \n",
       "3              no                      0              299.4               71   \n",
       "4              no                      0              166.7              113   \n",
       "\n",
       "   total day charge  ...  total eve calls  total eve charge  \\\n",
       "0             45.07  ...               99             16.78   \n",
       "1             27.47  ...              103             16.62   \n",
       "2             41.38  ...              110             10.30   \n",
       "3             50.90  ...               88              5.26   \n",
       "4             28.34  ...              122             12.61   \n",
       "\n",
       "   total night minutes  total night calls  total night charge  \\\n",
       "0                244.7                 91               11.01   \n",
       "1                254.4                103               11.45   \n",
       "2                162.6                104                7.32   \n",
       "3                196.9                 89                8.86   \n",
       "4                186.9                121                8.41   \n",
       "\n",
       "   total intl minutes  total intl calls  total intl charge  \\\n",
       "0                10.0                 3               2.70   \n",
       "1                13.7                 3               3.70   \n",
       "2                12.2                 5               3.29   \n",
       "3                 6.6                 7               1.78   \n",
       "4                10.1                 3               2.73   \n",
       "\n",
       "   customer service calls  churn  \n",
       "0                       1  False  \n",
       "1                       1  False  \n",
       "2                       0  False  \n",
       "3                       2  False  \n",
       "4                       3  False  \n",
       "\n",
       "[5 rows x 21 columns]"
      ]
     },
     "execution_count": 3,
     "metadata": {},
     "output_type": "execute_result"
    }
   ],
   "source": [
    "# Preview the data to ensure it loaded correctly\n",
    "\n",
    "df.head()"
   ]
  },
  {
   "cell_type": "markdown",
   "metadata": {},
   "source": [
    "## Data Import"
   ]
  },
  {
   "cell_type": "code",
   "execution_count": 4,
   "metadata": {
    "ExecuteTime": {
     "end_time": "2022-05-24T18:53:34.992927Z",
     "start_time": "2022-05-24T18:53:34.980620Z"
    }
   },
   "outputs": [
    {
     "data": {
      "text/plain": [
       "(3333, 21)"
      ]
     },
     "execution_count": 4,
     "metadata": {},
     "output_type": "execute_result"
    }
   ],
   "source": [
    "# Shape of the data\n",
    "\n",
    "df.shape\n",
    "\n",
    "# Indicates 3,333 observations with 21 features"
   ]
  },
  {
   "cell_type": "code",
   "execution_count": 5,
   "metadata": {
    "ExecuteTime": {
     "end_time": "2022-05-24T18:53:35.033770Z",
     "start_time": "2022-05-24T18:53:34.998128Z"
    }
   },
   "outputs": [
    {
     "name": "stdout",
     "output_type": "stream",
     "text": [
      "<class 'pandas.core.frame.DataFrame'>\n",
      "RangeIndex: 3333 entries, 0 to 3332\n",
      "Data columns (total 21 columns):\n",
      " #   Column                  Non-Null Count  Dtype  \n",
      "---  ------                  --------------  -----  \n",
      " 0   state                   3333 non-null   object \n",
      " 1   account length          3333 non-null   int64  \n",
      " 2   area code               3333 non-null   int64  \n",
      " 3   phone number            3333 non-null   object \n",
      " 4   international plan      3333 non-null   object \n",
      " 5   voice mail plan         3333 non-null   object \n",
      " 6   number vmail messages   3333 non-null   int64  \n",
      " 7   total day minutes       3333 non-null   float64\n",
      " 8   total day calls         3333 non-null   int64  \n",
      " 9   total day charge        3333 non-null   float64\n",
      " 10  total eve minutes       3333 non-null   float64\n",
      " 11  total eve calls         3333 non-null   int64  \n",
      " 12  total eve charge        3333 non-null   float64\n",
      " 13  total night minutes     3333 non-null   float64\n",
      " 14  total night calls       3333 non-null   int64  \n",
      " 15  total night charge      3333 non-null   float64\n",
      " 16  total intl minutes      3333 non-null   float64\n",
      " 17  total intl calls        3333 non-null   int64  \n",
      " 18  total intl charge       3333 non-null   float64\n",
      " 19  customer service calls  3333 non-null   int64  \n",
      " 20  churn                   3333 non-null   bool   \n",
      "dtypes: bool(1), float64(8), int64(8), object(4)\n",
      "memory usage: 524.2+ KB\n"
     ]
    }
   ],
   "source": [
    "df.info()\n",
    "\n",
    "# No missing values"
   ]
  },
  {
   "cell_type": "markdown",
   "metadata": {},
   "source": [
    "A couple of notes about our data thus far:\n",
    "\n",
    "1. `phone number` is essentially a unique ID for each observation, so that column can be dropped\n",
    "2. `state`, `international plan`, and `voice mail plan` have string values (`churn` is a boolean value). For the latter two that have yes/no, I convert to 1 and 0, respectively. For `state`, I use `LabelEncoder`.\n",
    "\n",
    "For efficiency and reproducibility, I write a preprocessing function to handle this work."
   ]
  },
  {
   "cell_type": "markdown",
   "metadata": {},
   "source": [
    "## Data Preprocessing"
   ]
  },
  {
   "cell_type": "code",
   "execution_count": 8,
   "metadata": {
    "ExecuteTime": {
     "end_time": "2022-05-24T18:53:35.147792Z",
     "start_time": "2022-05-24T18:53:35.140346Z"
    }
   },
   "outputs": [],
   "source": [
    "# Write a preprocessing data function\n",
    "\n",
    "def preprocess_data(df):\n",
    "    pre_df = df.copy()\n",
    "    \n",
    "    # Replace the spaces in the column names with underscores\n",
    "    pre_df.columns = [s.replace(\" \", \"_\") for s in pre_df.columns]\n",
    "    \n",
    "    # Convert string columns to integers\n",
    "    pre_df[\"international_plan\"] = pre_df[\"international_plan\"].apply(lambda x: 0 if x==\"no\" else 1)\n",
    "    pre_df[\"voice_mail_plan\"] = pre_df[\"voice_mail_plan\"].apply(lambda x: 0 if x==\"no\" else 1)\n",
    "    pre_df = pre_df.drop([\"phone_number\"], axis=1)\n",
    "    \n",
    "    # Initialize labelencoder()\n",
    "    le = LabelEncoder()\n",
    "    le.fit(pre_df['state'])\n",
    "    pre_df['state'] = le.transform(pre_df['state'])\n",
    "    \n",
    "    return pre_df, le"
   ]
  },
  {
   "cell_type": "code",
   "execution_count": 9,
   "metadata": {
    "ExecuteTime": {
     "end_time": "2022-05-24T18:53:35.210656Z",
     "start_time": "2022-05-24T18:53:35.158746Z"
    }
   },
   "outputs": [
    {
     "data": {
      "text/html": [
       "<div>\n",
       "<style scoped>\n",
       "    .dataframe tbody tr th:only-of-type {\n",
       "        vertical-align: middle;\n",
       "    }\n",
       "\n",
       "    .dataframe tbody tr th {\n",
       "        vertical-align: top;\n",
       "    }\n",
       "\n",
       "    .dataframe thead th {\n",
       "        text-align: right;\n",
       "    }\n",
       "</style>\n",
       "<table border=\"1\" class=\"dataframe\">\n",
       "  <thead>\n",
       "    <tr style=\"text-align: right;\">\n",
       "      <th></th>\n",
       "      <th>state</th>\n",
       "      <th>account_length</th>\n",
       "      <th>area_code</th>\n",
       "      <th>international_plan</th>\n",
       "      <th>voice_mail_plan</th>\n",
       "      <th>number_vmail_messages</th>\n",
       "      <th>total_day_minutes</th>\n",
       "      <th>total_day_calls</th>\n",
       "      <th>total_day_charge</th>\n",
       "      <th>total_eve_minutes</th>\n",
       "      <th>total_eve_calls</th>\n",
       "      <th>total_eve_charge</th>\n",
       "      <th>total_night_minutes</th>\n",
       "      <th>total_night_calls</th>\n",
       "      <th>total_night_charge</th>\n",
       "      <th>total_intl_minutes</th>\n",
       "      <th>total_intl_calls</th>\n",
       "      <th>total_intl_charge</th>\n",
       "      <th>customer_service_calls</th>\n",
       "      <th>churn</th>\n",
       "    </tr>\n",
       "  </thead>\n",
       "  <tbody>\n",
       "    <tr>\n",
       "      <th>0</th>\n",
       "      <td>16</td>\n",
       "      <td>128</td>\n",
       "      <td>415</td>\n",
       "      <td>0</td>\n",
       "      <td>1</td>\n",
       "      <td>25</td>\n",
       "      <td>265.1</td>\n",
       "      <td>110</td>\n",
       "      <td>45.07</td>\n",
       "      <td>197.4</td>\n",
       "      <td>99</td>\n",
       "      <td>16.78</td>\n",
       "      <td>244.7</td>\n",
       "      <td>91</td>\n",
       "      <td>11.01</td>\n",
       "      <td>10.0</td>\n",
       "      <td>3</td>\n",
       "      <td>2.70</td>\n",
       "      <td>1</td>\n",
       "      <td>False</td>\n",
       "    </tr>\n",
       "    <tr>\n",
       "      <th>1</th>\n",
       "      <td>35</td>\n",
       "      <td>107</td>\n",
       "      <td>415</td>\n",
       "      <td>0</td>\n",
       "      <td>1</td>\n",
       "      <td>26</td>\n",
       "      <td>161.6</td>\n",
       "      <td>123</td>\n",
       "      <td>27.47</td>\n",
       "      <td>195.5</td>\n",
       "      <td>103</td>\n",
       "      <td>16.62</td>\n",
       "      <td>254.4</td>\n",
       "      <td>103</td>\n",
       "      <td>11.45</td>\n",
       "      <td>13.7</td>\n",
       "      <td>3</td>\n",
       "      <td>3.70</td>\n",
       "      <td>1</td>\n",
       "      <td>False</td>\n",
       "    </tr>\n",
       "    <tr>\n",
       "      <th>2</th>\n",
       "      <td>31</td>\n",
       "      <td>137</td>\n",
       "      <td>415</td>\n",
       "      <td>0</td>\n",
       "      <td>0</td>\n",
       "      <td>0</td>\n",
       "      <td>243.4</td>\n",
       "      <td>114</td>\n",
       "      <td>41.38</td>\n",
       "      <td>121.2</td>\n",
       "      <td>110</td>\n",
       "      <td>10.30</td>\n",
       "      <td>162.6</td>\n",
       "      <td>104</td>\n",
       "      <td>7.32</td>\n",
       "      <td>12.2</td>\n",
       "      <td>5</td>\n",
       "      <td>3.29</td>\n",
       "      <td>0</td>\n",
       "      <td>False</td>\n",
       "    </tr>\n",
       "  </tbody>\n",
       "</table>\n",
       "</div>"
      ],
      "text/plain": [
       "   state  account_length  area_code  international_plan  voice_mail_plan  \\\n",
       "0     16             128        415                   0                1   \n",
       "1     35             107        415                   0                1   \n",
       "2     31             137        415                   0                0   \n",
       "\n",
       "   number_vmail_messages  total_day_minutes  total_day_calls  \\\n",
       "0                     25              265.1              110   \n",
       "1                     26              161.6              123   \n",
       "2                      0              243.4              114   \n",
       "\n",
       "   total_day_charge  total_eve_minutes  total_eve_calls  total_eve_charge  \\\n",
       "0             45.07              197.4               99             16.78   \n",
       "1             27.47              195.5              103             16.62   \n",
       "2             41.38              121.2              110             10.30   \n",
       "\n",
       "   total_night_minutes  total_night_calls  total_night_charge  \\\n",
       "0                244.7                 91               11.01   \n",
       "1                254.4                103               11.45   \n",
       "2                162.6                104                7.32   \n",
       "\n",
       "   total_intl_minutes  total_intl_calls  total_intl_charge  \\\n",
       "0                10.0                 3               2.70   \n",
       "1                13.7                 3               3.70   \n",
       "2                12.2                 5               3.29   \n",
       "\n",
       "   customer_service_calls  churn  \n",
       "0                       1  False  \n",
       "1                       1  False  \n",
       "2                       0  False  "
      ]
     },
     "execution_count": 9,
     "metadata": {},
     "output_type": "execute_result"
    }
   ],
   "source": [
    "# Apply the preprocessing function to our data\n",
    "\n",
    "pre_df, _ = preprocess_data(df)\n",
    "pre_df.head(3)"
   ]
  },
  {
   "cell_type": "markdown",
   "metadata": {},
   "source": [
    "## Exploratory Data Analysis"
   ]
  },
  {
   "cell_type": "markdown",
   "metadata": {},
   "source": [
    "As noted above, this dataset has 3,333 observations with 21 different features. The only feature that will not be included in the analysis is each observation's phone number as this functions as a unique identifier and thus, does not add value to any predictive model.\n"
   ]
  },
  {
   "cell_type": "markdown",
   "metadata": {
    "ExecuteTime": {
     "end_time": "2022-05-25T20:26:17.479386Z",
     "start_time": "2022-05-25T20:26:17.417051Z"
    }
   },
   "source": [
    "### Data Visualizations"
   ]
  },
  {
   "cell_type": "markdown",
   "metadata": {},
   "source": [
    "**Distribution of Churn**"
   ]
  },
  {
   "cell_type": "code",
   "execution_count": 323,
   "metadata": {
    "ExecuteTime": {
     "end_time": "2022-05-27T20:49:01.893841Z",
     "start_time": "2022-05-27T20:49:01.709731Z"
    }
   },
   "outputs": [
    {
     "data": {
      "image/png": "[encoded data removed]",
      "text/plain": [
       "<Figure size 720x432 with 1 Axes>"
      ]
     },
     "metadata": {},
     "output_type": "display_data"
    }
   ],
   "source": [
    "churn_perc = pd.DataFrame(df.churn.value_counts()/len(df.churn))\n",
    "\n",
    "fig, ax = plt.subplots(figsize=(10,6))\n",
    "sns.barplot(x = [0, 1], y = 'churn', data = churn_perc, ax = ax)\n",
    "plt.title('Percentage of Customer Churn', fontsize = 24)\n",
    "ax.tick_params(axis = 'both', labelsize = 12)\n",
    "plt.xlabel('Churn', fontsize = 16)\n",
    "plt.ylabel('Churn Rate', fontsize = 16)\n",
    "ax.set_xticklabels(['No Churn', 'Churn'])\n",
    "plt.tight_layout()"
   ]
  },
  {
   "cell_type": "code",
   "execution_count": 300,
   "metadata": {
    "ExecuteTime": {
     "end_time": "2022-05-27T20:15:05.907583Z",
     "start_time": "2022-05-27T20:15:05.760651Z"
    }
   },
   "outputs": [
    {
     "data": {
      "text/plain": [
       "False    0.855086\n",
       "True     0.144914\n",
       "Name: churn, dtype: float64"
      ]
     },
     "execution_count": 300,
     "metadata": {},
     "output_type": "execute_result"
    }
   ],
   "source": [
    "pre_df[\"churn\"].value_counts(normalize = True)"
   ]
  },
  {
   "cell_type": "markdown",
   "metadata": {},
   "source": [
    "Here we can see of the 3,333 observations (or accounts), 86% have not churned whereas 14% have churned.\n",
    "\n",
    "Further, this initial visualization indicates that we have an unbalanced dataset; a baseline model that always chooses the majority class (no churn) would have an accuracy of 85.5%. In the modeling to address the business problem, I address the imbalance by using class weights, which will promote the minority class in our analyses, and use the F1 score to measure effectiveness of the models.\n",
    "\n",
    "The F1 score is the harmonic mean of two other metrics, precision and recall, and is suited well to evaluate imbalanced datasets.\n",
    "\n",
    "Precision summarizes the fraction of examples assigned the positive class that belong to the positive class whereas the recall summarizes how well the positive class was predicted and is the same calculation as sensitivity. Both precision and recall values fall in the range [0,1], with 0 indicating no precision/recall and 1 perfect precision/recall. These values can be combined into one metric, the F1 score, which is the harmonic average of the precision and recall scores. The F1 score also ranges [0,1].\n",
    "\n",
    "The closer to 1 the F1 score, the more perfect the model is when classifying samples."
   ]
  },
  {
   "cell_type": "markdown",
   "metadata": {},
   "source": [
    "**Churn By International Plan**"
   ]
  },
  {
   "cell_type": "code",
   "execution_count": 330,
   "metadata": {
    "ExecuteTime": {
     "end_time": "2022-05-27T21:13:31.061052Z",
     "start_time": "2022-05-27T21:13:30.869798Z"
    }
   },
   "outputs": [
    {
     "data": {
      "image/png": "[encoded data removed]",
      "text/plain": [
       "<Figure size 720x432 with 1 Axes>"
      ]
     },
     "metadata": {},
     "output_type": "display_data"
    }
   ],
   "source": [
    "int_plan_churn = pd.DataFrame(df.groupby(['international plan'])['churn'].mean())\n",
    "\n",
    "fig, ax = plt.subplots(figsize=(10,6))\n",
    "sns.barplot(x = [0, 1], y = 'churn', data = int_plan_churn, ax = ax)\n",
    "plt.title('Percentage of Customer Churn for \\nCustomers with International Plan', fontsize = 24)\n",
    "ax.tick_params(axis = 'both', labelsize = 12)\n",
    "plt.xlabel('International Plan True/False', fontsize = 16)\n",
    "plt.ylabel('Churn Rate', fontsize = 16)\n",
    "ax.set_xticklabels(['No International Plan', 'Has International Plan'])\n",
    "plt.tight_layout()"
   ]
  },
  {
   "cell_type": "code",
   "execution_count": 385,
   "metadata": {
    "ExecuteTime": {
     "end_time": "2022-05-28T23:10:46.326269Z",
     "start_time": "2022-05-28T23:10:46.305779Z"
    }
   },
   "outputs": [
    {
     "data": {
      "text/plain": [
       "international_plan  churn\n",
       "0                   False    0.885050\n",
       "                    True     0.114950\n",
       "1                   False    0.575851\n",
       "                    True     0.424149\n",
       "Name: churn, dtype: float64"
      ]
     },
     "execution_count": 385,
     "metadata": {},
     "output_type": "execute_result"
    }
   ],
   "source": [
    "pre_df.groupby(\"international_plan\")[\"churn\"].value_counts(normalize = True)"
   ]
  },
  {
   "cell_type": "markdown",
   "metadata": {},
   "source": [
    "Here we can see that the churn rate for those who do not have an international plan is only 11.5% whereas the churn rate for those who do have an international rate is 42.4%"
   ]
  },
  {
   "cell_type": "markdown",
   "metadata": {},
   "source": [
    "**Churn By Voice Mail Plan**"
   ]
  },
  {
   "cell_type": "code",
   "execution_count": 411,
   "metadata": {
    "ExecuteTime": {
     "end_time": "2022-05-29T00:54:43.743456Z",
     "start_time": "2022-05-29T00:54:43.544806Z"
    }
   },
   "outputs": [
    {
     "data": {
      "image/png": "[encoded data removed]",
      "text/plain": [
       "<Figure size 720x432 with 1 Axes>"
      ]
     },
     "metadata": {},
     "output_type": "display_data"
    }
   ],
   "source": [
    "vm_plan_churn = pd.DataFrame(df.groupby(['voice mail plan'])['churn'].mean())\n",
    "\n",
    "fig, ax = plt.subplots(figsize=(10,6))\n",
    "sns.barplot(x = [0, 1], y = 'churn', data = vm_plan_churn, ax = ax)\n",
    "plt.title('Percentage of Customer Churn for \\nCustomers with a Voice Mail Plan', fontsize = 24)\n",
    "ax.tick_params(axis = 'both', labelsize = 12)\n",
    "plt.xlabel('Voice Mail Plan True/False', fontsize = 16)\n",
    "plt.ylabel('Churn Rate', fontsize = 16)\n",
    "ax.set_xticklabels(['No VM Plan', 'Has VM Plan'])\n",
    "plt.tight_layout()"
   ]
  },
  {
   "cell_type": "code",
   "execution_count": 407,
   "metadata": {
    "ExecuteTime": {
     "end_time": "2022-05-29T00:52:37.336968Z",
     "start_time": "2022-05-29T00:52:37.317525Z"
    }
   },
   "outputs": [
    {
     "data": {
      "text/plain": [
       "voice mail plan  churn\n",
       "no               False    0.832849\n",
       "                 True     0.167151\n",
       "yes              False    0.913232\n",
       "                 True     0.086768\n",
       "Name: churn, dtype: float64"
      ]
     },
     "execution_count": 407,
     "metadata": {},
     "output_type": "execute_result"
    }
   ],
   "source": [
    "df.groupby(\"voice mail plan\")[\"churn\"].value_counts(normalize = True)"
   ]
  },
  {
   "cell_type": "markdown",
   "metadata": {},
   "source": [
    "Customers without a voice mail plan have a churn rate of 16.7%"
   ]
  },
  {
   "cell_type": "markdown",
   "metadata": {},
   "source": [
    "**Churn By Customer Service Calls**"
   ]
  },
  {
   "cell_type": "code",
   "execution_count": 334,
   "metadata": {
    "ExecuteTime": {
     "end_time": "2022-05-27T21:13:59.895570Z",
     "start_time": "2022-05-27T21:13:59.643030Z"
    }
   },
   "outputs": [
    {
     "data": {
      "image/png": "[encoded data removed]",
      "text/plain": [
       "<Figure size 720x432 with 1 Axes>"
      ]
     },
     "metadata": {},
     "output_type": "display_data"
    }
   ],
   "source": [
    "cust_calls = pd.DataFrame(df.groupby(['customer service calls'])['churn'].mean())\n",
    "\n",
    "fig, ax = plt.subplots(figsize=(10,6))\n",
    "sns.barplot(x = [0, 1, 2, 3, 4, 5, 6, 7, 8, 9], y = 'churn', data = cust_calls, ax = ax)\n",
    "plt.title('Percentage of Customer Churn Based \\non Number of Customer Service Calls', fontsize = 24)\n",
    "ax.tick_params(axis = 'both', labelsize = 12)\n",
    "plt.xlabel('# Customer Service Calls Made', fontsize = 16)\n",
    "plt.ylabel('Churn Rate', fontsize = 16)\n",
    "plt.tight_layout()"
   ]
  },
  {
   "cell_type": "markdown",
   "metadata": {},
   "source": [
    "Here we can see for those customers calling customer service four or more times, they have a higher churn rate than those who call customer service three or fewer times."
   ]
  },
  {
   "cell_type": "markdown",
   "metadata": {},
   "source": [
    "**Distribution of Continuous Features**"
   ]
  },
  {
   "cell_type": "code",
   "execution_count": 17,
   "metadata": {
    "ExecuteTime": {
     "end_time": "2022-05-24T18:53:46.386527Z",
     "start_time": "2022-05-24T18:53:40.898977Z"
    },
    "scrolled": false
   },
   "outputs": [
    {
     "data": {
      "image/png": "[encoded data removed]",
      "text/plain": [
       "<Figure size 1152x1440 with 16 Axes>"
      ]
     },
     "metadata": {
      "needs_background": "light"
     },
     "output_type": "display_data"
    }
   ],
   "source": [
    "df[df.select_dtypes(exclude = object and bool).columns].hist(figsize=(16, 20),\n",
    "                                                        bins = 50, xlabelsize = 8, ylabelsize = 8);"
   ]
  },
  {
   "cell_type": "markdown",
   "metadata": {},
   "source": [
    "While this project does not utilize linear regression and thus distribution normality is not an assumption we need to verify and meet, this visualization is still valuable to identify if there are any significant outliers or skew that may need to be addressed in data processing.\n",
    "\n",
    "***\n",
    "\n",
    "**Finally, a note on the limitations of the dataset:**\n",
    "\n",
    "This dataset does not include any information related to dates, so I do not know how recent or out-of-date the data points are. Not knowing the timeframe of the data may impact conclusions in that data from 20 years ago may not accurately reflect data from 6 months ago.\n"
   ]
  },
  {
   "cell_type": "markdown",
   "metadata": {},
   "source": [
    "# Data Modeling"
   ]
  },
  {
   "cell_type": "markdown",
   "metadata": {},
   "source": [
    "## Prepare the Data for Modeling"
   ]
  },
  {
   "cell_type": "code",
   "execution_count": 21,
   "metadata": {
    "ExecuteTime": {
     "end_time": "2022-05-24T18:53:46.810411Z",
     "start_time": "2022-05-24T18:53:46.773315Z"
    }
   },
   "outputs": [],
   "source": [
    "# Split the data\n",
    "\n",
    "y = pre_df[\"churn\"]\n",
    "X = pre_df.drop([\"churn\"], axis=1)\n",
    "\n",
    "X_train, X_test, y_train, y_test = train_test_split(X, y, random_state = 47, stratify = y)"
   ]
  },
  {
   "cell_type": "markdown",
   "metadata": {},
   "source": [
    "Here, I set the stratify parameter to \"yes\" because we have an unbalanced dataset. Stratifying our train-test-split ensures that relative class frequencies are approximately preserved in each train and validation fold."
   ]
  },
  {
   "cell_type": "code",
   "execution_count": 22,
   "metadata": {
    "ExecuteTime": {
     "end_time": "2022-05-24T18:53:46.836897Z",
     "start_time": "2022-05-24T18:53:46.819988Z"
    }
   },
   "outputs": [],
   "source": [
    "# Standardize the data\n",
    "\n",
    "# Instantiate StandardScaler\n",
    "scaler = scaler = StandardScaler()\n",
    "\n",
    "# Transform the training and test sets\n",
    "X_train_scaled = scaler.fit_transform(X_train)\n",
    "X_test_scaled = scaler.transform(X_test)"
   ]
  },
  {
   "cell_type": "markdown",
   "metadata": {},
   "source": [
    "## Functions for Efficiency "
   ]
  },
  {
   "cell_type": "code",
   "execution_count": 336,
   "metadata": {
    "ExecuteTime": {
     "end_time": "2022-05-27T21:17:07.047935Z",
     "start_time": "2022-05-27T21:17:07.039807Z"
    }
   },
   "outputs": [],
   "source": [
    "# Write a function that will print the model metrics\n",
    "\n",
    "def print_metrics(clf):\n",
    "    # Predict on training and test sets\n",
    "    training_preds = clf.predict(X_train_scaled)\n",
    "    test_preds = clf.predict(X_test_scaled)\n",
    "    \n",
    "    # F1-score of training and test sets (include weighted scoring due to\n",
    "    # imbalanced data)\n",
    "    clf_training_f1 = f1_score(y_train, training_preds, average = 'weighted')\n",
    "    clf_test_f1 = f1_score(y_test, test_preds, average = 'weighted')\n",
    "    clf_f1_delta = clf_training_f1 - clf_test_f1\n",
    "    \n",
    "    print('Training F1-Score: {:.2}'.format(clf_training_f1))\n",
    "    print('Validation F1-Score: {:.2}'.format(clf_test_f1))\n",
    "    print('F1-Score Delta: {:.2}'.format(clf_f1_delta))"
   ]
  },
  {
   "cell_type": "code",
   "execution_count": 341,
   "metadata": {
    "ExecuteTime": {
     "end_time": "2022-05-27T21:20:47.350829Z",
     "start_time": "2022-05-27T21:20:47.339743Z"
    }
   },
   "outputs": [],
   "source": [
    "# Write a function to plot the feature importances, used with decision tree,\n",
    "# random forest, and xgboost\n",
    "\n",
    "def plot_feature_importances(model):\n",
    "    sns.set_theme(style = \"whitegrid\")\n",
    "    \n",
    "    pd.Series(model.feature_importances_,\n",
    "              index = X_train.columns).nlargest(10).sort_values(ascending = True).plot(kind = 'barh')\n",
    "    "
   ]
  },
  {
   "cell_type": "code",
   "execution_count": 342,
   "metadata": {
    "ExecuteTime": {
     "end_time": "2022-05-27T21:20:48.765344Z",
     "start_time": "2022-05-27T21:20:48.756695Z"
    }
   },
   "outputs": [],
   "source": [
    "# Write a function to plot the feature importances based on GridSearch,\n",
    "# used with decision tree, random forest, and xgboost\n",
    "\n",
    "def plot_gs_feature_importances(model):\n",
    "    sns.set_theme(style = \"whitegrid\")\n",
    "    \n",
    "    pd.Series(model.best_estimator_.feature_importances_,\n",
    "              index = X_train.columns).nlargest(10).sort_values(ascending = True).plot(kind = 'barh')\n",
    "    "
   ]
  },
  {
   "cell_type": "code",
   "execution_count": 343,
   "metadata": {
    "ExecuteTime": {
     "end_time": "2022-05-27T21:20:49.972345Z",
     "start_time": "2022-05-27T21:20:49.961620Z"
    }
   },
   "outputs": [],
   "source": [
    "# Write a function to print the best parameters found during a GridSearchCV\n",
    "\n",
    "def print_best_params(clf):\n",
    "    best_parameters = clf.best_params_\n",
    "    print('Grid Search found the following optimal parameters: ')\n",
    "    for param_name in sorted(best_parameters.keys()):\n",
    "        print('%s: %r' % (param_name, best_parameters[param_name]))"
   ]
  },
  {
   "cell_type": "code",
   "execution_count": 344,
   "metadata": {
    "ExecuteTime": {
     "end_time": "2022-05-27T21:20:55.046454Z",
     "start_time": "2022-05-27T21:20:55.036775Z"
    }
   },
   "outputs": [],
   "source": [
    "# Write a function to print the model metrics of the model with the best parameters\n",
    "# based on the GridSearch, including confusion matric and classification report\n",
    "\n",
    "def print_gs_metrics(clf):\n",
    "    \n",
    "    # Set SNS\n",
    "    sns.set_theme(style = \"white\")\n",
    "\n",
    "    # Predict on training and test sets\n",
    "    training_preds = clf.predict(X_train_scaled)\n",
    "    test_preds = clf.predict(X_test_scaled)\n",
    "    \n",
    "    # F1-score of training and test sets, including 'weighted' for imbalance\n",
    "    clf_training_f1 = f1_score(y_train, training_preds, average = 'weighted')\n",
    "    clf_test_f1 = f1_score(y_test, test_preds, average = 'weighted')\n",
    "    clf_f1_delta = clf_training_f1 - clf_test_f1\n",
    "    \n",
    "    # Print all scores\n",
    "    print('Training F1-Score: {:.2}'.format(clf_training_f1))\n",
    "    print('Validation F1-Score: {:.2}'.format(clf_test_f1))\n",
    "    print('F1-Score Delta: {:.2}'.format(clf_f1_delta))\n",
    "    \n",
    "    print('\\n','-'*30,'\\n')\n",
    "    \n",
    "    # Print training classification report\n",
    "    print('Training Classification Report')\n",
    "    print(classification_report(y_train, training_preds))\n",
    "    \n",
    "    print('\\n','-'*30,'\\n')\n",
    "    \n",
    "    # Print testing classification report\n",
    "    print('Testing Classification Report')\n",
    "    print(classification_report(y_test, test_preds))\n",
    "    \n",
    "    print('\\n','-'*30,'\\n')\n",
    "        \n",
    "    # Plot testing confusion matrix\n",
    "    print('Confusion Matrix')\n",
    "    plot_confusion_matrix(clf, X_test_scaled, y_test, normalize = 'true', cmap = 'Blues');"
   ]
  },
  {
   "cell_type": "markdown",
   "metadata": {},
   "source": [
    "## Baseline Model"
   ]
  },
  {
   "cell_type": "markdown",
   "metadata": {},
   "source": [
    "### Decision Tree Stump"
   ]
  },
  {
   "cell_type": "markdown",
   "metadata": {},
   "source": [
    "I begin the predictive modeling process by creating a baseline model from which to build from. The baseline model in this case is a decision stump (using a Decision Tree classifier) with just one split, i.e., a max depth of 1. This classifier will be a weak learner."
   ]
  },
  {
   "cell_type": "code",
   "execution_count": 399,
   "metadata": {
    "ExecuteTime": {
     "end_time": "2022-05-28T23:50:48.949081Z",
     "start_time": "2022-05-28T23:50:48.938915Z"
    }
   },
   "outputs": [],
   "source": [
    "# Set seed for reproducibility\n",
    "\n",
    "SEED = 47"
   ]
  },
  {
   "cell_type": "code",
   "execution_count": 400,
   "metadata": {
    "ExecuteTime": {
     "end_time": "2022-05-28T23:50:50.634585Z",
     "start_time": "2022-05-28T23:50:50.612531Z"
    },
    "scrolled": true
   },
   "outputs": [
    {
     "name": "stdout",
     "output_type": "stream",
     "text": [
      "Training F1-Score: 0.83\n",
      "Validation F1-Score: 0.81\n",
      "F1-Score Delta: 0.024\n"
     ]
    }
   ],
   "source": [
    "# Initialize the decision tree stump\n",
    "\n",
    "baseline = DecisionTreeClassifier(max_depth = 1,\n",
    "                                  class_weight = 'balanced',\n",
    "                                  random_state = SEED)\n",
    "\n",
    "# Fit the data to the classifier\n",
    "baseline.fit(X_train_scaled, y_train)\n",
    "\n",
    "# Print the metrics\n",
    "print_metrics(baseline)"
   ]
  },
  {
   "cell_type": "markdown",
   "metadata": {},
   "source": [
    "## Vanilla Models"
   ]
  },
  {
   "cell_type": "markdown",
   "metadata": {},
   "source": [
    "In this section, I create vanilla models using a decision tree classifier, logistic regression, k-Nearest Neighbors classifier, random forest classifier, and eXtreme Gradient Boost (XGBoost) classifier.\n",
    "\n",
    "Each model has its own advantages and disadvantages, which is why I will include each to best determine the strongest predictive model for the stakeholder.\n",
    "\n",
    "These models' parameters are mostly defaults and not tuned for specificity or improvement. This allows for more opportunity to determine which model(s) will be the best to recommend."
   ]
  },
  {
   "cell_type": "markdown",
   "metadata": {},
   "source": [
    "### Decision Tree Classifier\n",
    "\n",
    "[Decision Trees](https://scikit-learn.org/stable/modules/tree.html) are a non-parametric supervised learning method used for classification and regression with the goal of creating a model that predicts the value of a target variable by learning simple decision rules inferred from the data features; in the case of this project, the decision tree classifier will attempt to predict customer churn."
   ]
  },
  {
   "cell_type": "code",
   "execution_count": 388,
   "metadata": {
    "ExecuteTime": {
     "end_time": "2022-05-28T23:22:14.180182Z",
     "start_time": "2022-05-28T23:22:14.132532Z"
    }
   },
   "outputs": [
    {
     "name": "stdout",
     "output_type": "stream",
     "text": [
      "Training F1-Score: 1.0\n",
      "Validation F1-Score: 0.91\n",
      "F1-Score Delta: 0.086\n"
     ]
    }
   ],
   "source": [
    "# Initialize decision tree classifier\n",
    "\n",
    "dt = DecisionTreeClassifier(class_weight = 'balanced',\n",
    "                            random_state = SEED).fit(X_train_scaled, y_train)\n",
    "\n",
    "print_metrics(dt)"
   ]
  },
  {
   "cell_type": "code",
   "execution_count": 348,
   "metadata": {
    "ExecuteTime": {
     "end_time": "2022-05-27T21:21:05.605387Z",
     "start_time": "2022-05-27T21:21:05.396267Z"
    }
   },
   "outputs": [
    {
     "data": {
      "image/png": "[encoded data removed]",
      "text/plain": [
       "<Figure size 432x288 with 1 Axes>"
      ]
     },
     "metadata": {},
     "output_type": "display_data"
    }
   ],
   "source": [
    "# Fit the data to the classifier\n",
    "\n",
    "dt = DecisionTreeClassifier().fit(X_train_scaled, y_train)\n",
    "plot_feature_importances(dt)"
   ]
  },
  {
   "cell_type": "markdown",
   "metadata": {},
   "source": [
    "### Logistic Regression\n",
    "\n",
    "[Logistic regression](https://scikit-learn.org/stable/modules/linear_model.html#logistic-regression) is a linear model that is used for classification and models the probability of one event or class (out of two alternatives) taking place and that the target variable is categorical, e.g., a customer churns (1) or does not churn (0). Thus, logistic regression is an applicable model to our business problem and may be of value."
   ]
  },
  {
   "cell_type": "code",
   "execution_count": 389,
   "metadata": {
    "ExecuteTime": {
     "end_time": "2022-05-28T23:26:16.296569Z",
     "start_time": "2022-05-28T23:26:16.170177Z"
    }
   },
   "outputs": [
    {
     "name": "stdout",
     "output_type": "stream",
     "text": [
      "Training F1-Score: 0.8\n",
      "Validation F1-Score: 0.79\n",
      "F1-Score Delta: 0.013\n"
     ]
    }
   ],
   "source": [
    "# Initialize the logistic regression classifier and fit the data\n",
    "\n",
    "lr = LogisticRegression(class_weight = 'balanced',\n",
    "                        random_state = SEED).fit(X_train_scaled, y_train)\n",
    "\n",
    "print_metrics(lr)"
   ]
  },
  {
   "cell_type": "markdown",
   "metadata": {},
   "source": [
    "### K-Nearest Neighbors Classifier\n",
    "\n",
    "The [neighbors-based classification](https://scikit-learn.org/stable/modules/neighbors.html#classification) is a type of instance-based learning that computes classification from a simple majority vote of the nearest neighbors of each point: a query point is assigned the data class which has the most representatives within the nearest neighbors of the point. For this modeling, $k$-Nearest Neighbors implements learning based on the  nearest neighbors of each query point, where $k$ is an integer value specified by the user."
   ]
  },
  {
   "cell_type": "code",
   "execution_count": 390,
   "metadata": {
    "ExecuteTime": {
     "end_time": "2022-05-28T23:26:31.074033Z",
     "start_time": "2022-05-28T23:26:30.705763Z"
    },
    "scrolled": false
   },
   "outputs": [
    {
     "name": "stdout",
     "output_type": "stream",
     "text": [
      "Training F1-Score: 0.92\n",
      "Validation F1-Score: 0.87\n",
      "F1-Score Delta: 0.05\n"
     ]
    }
   ],
   "source": [
    "# Initialize the KNN classifier and fit the data\n",
    "\n",
    "knn = KNeighborsClassifier().fit(X_train_scaled, y_train)\n",
    "\n",
    "print_metrics(knn)"
   ]
  },
  {
   "cell_type": "markdown",
   "metadata": {},
   "source": [
    "### Random Forest Classifier\n",
    "\n",
    "[Random Forest Classifiers](https://scikit-learn.org/stable/modules/ensemble.html#forest) are a type of ensemble method, which means a diverse set of classifiers is created by introducing randomness in the classifier construction; in this case, he prediction of the ensemble is given as the averaged prediction of the individual decision tree classifiers. In random forests, each tree in the ensemble is built from a sample drawn with replacement (i.e., a bootstrap sample) from the training set."
   ]
  },
  {
   "cell_type": "code",
   "execution_count": 391,
   "metadata": {
    "ExecuteTime": {
     "end_time": "2022-05-28T23:26:43.447267Z",
     "start_time": "2022-05-28T23:26:42.814354Z"
    }
   },
   "outputs": [
    {
     "name": "stdout",
     "output_type": "stream",
     "text": [
      "Training F1-Score: 1.0\n",
      "Validation F1-Score: 0.94\n",
      "F1-Score Delta: 0.064\n"
     ]
    }
   ],
   "source": [
    "# Initialize the random forest classifier and fit the data\n",
    "\n",
    "rf = RandomForestClassifier(class_weight = 'balanced',\n",
    "                            random_state = SEED).fit(X_train_scaled, y_train)\n",
    "\n",
    "print_metrics(rf)"
   ]
  },
  {
   "cell_type": "code",
   "execution_count": 353,
   "metadata": {
    "ExecuteTime": {
     "end_time": "2022-05-27T21:22:25.576160Z",
     "start_time": "2022-05-27T21:22:25.248934Z"
    }
   },
   "outputs": [
    {
     "data": {
      "image/png": "[encoded data removed]",
      "text/plain": [
       "<Figure size 432x288 with 1 Axes>"
      ]
     },
     "metadata": {},
     "output_type": "display_data"
    }
   ],
   "source": [
    "plot_feature_importances(rf)"
   ]
  },
  {
   "cell_type": "markdown",
   "metadata": {},
   "source": [
    "### XGBoost\n",
    "\n",
    "From its documentation, [XGBoost](https://xgboost.readthedocs.io/en/latest/index.html) is an optimized distributed gradient boosting library designed to be highly efficient, flexible and portable. It implements machine learning algorithms under the Gradient Boosting framework.\n",
    "\n",
    "Gradient Boosting alogrithms are a more advanced boosting algorithm that makes use of Gradient Descent. It starts with a weak learner that makes predictions on the dataset. The algorithm then checks this learner's performance, identifying examples that it got right and wrong. The model then calculates the Residuals for each data point, to determine how far off the mark each prediction was. The model then combines these residuals with a Loss Function to calculate the overall loss.\n",
    "\n",
    "XGBoost, or eXtreme Gradient Boosting, provides a parallel tree boosting that solve many data science problems in a fast and accurate way. It is a stand-alone library that implements popular gradient boosting algorithms in the fastest, most performant way possible. In fact, XGBoost provides best-in-class performance compared to other classification algorithms."
   ]
  },
  {
   "cell_type": "code",
   "execution_count": 392,
   "metadata": {
    "ExecuteTime": {
     "end_time": "2022-05-28T23:27:04.439806Z",
     "start_time": "2022-05-28T23:27:04.062593Z"
    }
   },
   "outputs": [
    {
     "name": "stdout",
     "output_type": "stream",
     "text": [
      "Training F1-Score: 1.0\n",
      "Validation F1-Score: 0.94\n",
      "F1-Score Delta: 0.056\n"
     ]
    }
   ],
   "source": [
    "# Instantiate XGBClassifier and and fit the data\n",
    "xgb = XGBClassifier(seed = SEED).fit(X_train_scaled, y_train)\n",
    "\n",
    "print_metrics(xgb)"
   ]
  },
  {
   "cell_type": "code",
   "execution_count": 356,
   "metadata": {
    "ExecuteTime": {
     "end_time": "2022-05-27T21:22:57.380382Z",
     "start_time": "2022-05-27T21:22:56.947018Z"
    }
   },
   "outputs": [
    {
     "data": {
      "image/png": "[encoded data removed]",
      "text/plain": [
       "<Figure size 432x288 with 1 Axes>"
      ]
     },
     "metadata": {},
     "output_type": "display_data"
    }
   ],
   "source": [
    "xgb_clf = XGBClassifier().fit(X_train_scaled, y_train)\n",
    "plot_feature_importances(xgb_clf)"
   ]
  },
  {
   "cell_type": "markdown",
   "metadata": {},
   "source": [
    "### Summary Results Table"
   ]
  },
  {
   "cell_type": "code",
   "execution_count": 393,
   "metadata": {
    "ExecuteTime": {
     "end_time": "2022-05-28T23:27:35.057730Z",
     "start_time": "2022-05-28T23:27:34.583730Z"
    }
   },
   "outputs": [],
   "source": [
    "# Build a table of the results from the set of vanilla models\n",
    "\n",
    "classifiers = [dt, lr, knn, rf, xgb]\n",
    "classifier_names = [\"Decision Tree\", \"Logistic Regression\", \"KNN\", \"Random Forest\", \"XGBoost\"]\n",
    "\n",
    "results_table = pd.DataFrame(columns=[\"Training F1\", \"Validation F1\"])\n",
    "for (i, clf), name in zip(enumerate(classifiers), classifier_names):\n",
    "    X_pred = clf.predict(X_train_scaled)\n",
    "    y_pred = clf.predict(X_test_scaled)\n",
    "    row = []\n",
    "    row.append(f1_score(y_train, X_pred, average = 'weighted'))\n",
    "    row.append(f1_score(y_test, y_pred, average = 'weighted'))\n",
    "    row = [float(\"%.2f\" % r) for r in row]\n",
    "    results_table.loc[name] = row\n",
    "\n",
    "results_table['Delta'] = results_table['Training F1'] - results_table['Validation F1']"
   ]
  },
  {
   "cell_type": "code",
   "execution_count": 394,
   "metadata": {
    "ExecuteTime": {
     "end_time": "2022-05-28T23:27:36.609869Z",
     "start_time": "2022-05-28T23:27:36.578562Z"
    }
   },
   "outputs": [
    {
     "data": {
      "text/html": [
       "<div>\n",
       "<style scoped>\n",
       "    .dataframe tbody tr th:only-of-type {\n",
       "        vertical-align: middle;\n",
       "    }\n",
       "\n",
       "    .dataframe tbody tr th {\n",
       "        vertical-align: top;\n",
       "    }\n",
       "\n",
       "    .dataframe thead th {\n",
       "        text-align: right;\n",
       "    }\n",
       "</style>\n",
       "<table border=\"1\" class=\"dataframe\">\n",
       "  <thead>\n",
       "    <tr style=\"text-align: right;\">\n",
       "      <th></th>\n",
       "      <th>Training F1</th>\n",
       "      <th>Validation F1</th>\n",
       "      <th>Delta</th>\n",
       "    </tr>\n",
       "  </thead>\n",
       "  <tbody>\n",
       "    <tr>\n",
       "      <th>Decision Tree</th>\n",
       "      <td>1.00</td>\n",
       "      <td>0.91</td>\n",
       "      <td>0.09</td>\n",
       "    </tr>\n",
       "    <tr>\n",
       "      <th>Logistic Regression</th>\n",
       "      <td>0.80</td>\n",
       "      <td>0.79</td>\n",
       "      <td>0.01</td>\n",
       "    </tr>\n",
       "    <tr>\n",
       "      <th>KNN</th>\n",
       "      <td>0.92</td>\n",
       "      <td>0.87</td>\n",
       "      <td>0.05</td>\n",
       "    </tr>\n",
       "    <tr>\n",
       "      <th>Random Forest</th>\n",
       "      <td>1.00</td>\n",
       "      <td>0.94</td>\n",
       "      <td>0.06</td>\n",
       "    </tr>\n",
       "    <tr>\n",
       "      <th>XGBoost</th>\n",
       "      <td>1.00</td>\n",
       "      <td>0.94</td>\n",
       "      <td>0.06</td>\n",
       "    </tr>\n",
       "  </tbody>\n",
       "</table>\n",
       "</div>"
      ],
      "text/plain": [
       "                     Training F1  Validation F1  Delta\n",
       "Decision Tree               1.00           0.91   0.09\n",
       "Logistic Regression         0.80           0.79   0.01\n",
       "KNN                         0.92           0.87   0.05\n",
       "Random Forest               1.00           0.94   0.06\n",
       "XGBoost                     1.00           0.94   0.06"
      ]
     },
     "execution_count": 394,
     "metadata": {},
     "output_type": "execute_result"
    }
   ],
   "source": [
    "# Display the results table\n",
    "\n",
    "results_table"
   ]
  },
  {
   "cell_type": "markdown",
   "metadata": {},
   "source": [
    "With our vanilla models, both Random Forest and XGBoost performed the best, without any tuning of hyperparameters.\n",
    "\n",
    "On the test data, both RF and XGB had an F1 score value of 0.94, the closet to 1.0 out of all the other vanilla models.\n",
    "\n",
    "Compared to the baseline model, with an F1 score value of 0.81 on the test data, our RF and XGB vanilla models are already showing improvement in predictive performance.\n",
    "\n",
    "Furthermore, we are not seeing evidence of significant overfitting, which is good."
   ]
  },
  {
   "cell_type": "markdown",
   "metadata": {},
   "source": [
    "## Preparing for Model Tuning"
   ]
  },
  {
   "cell_type": "markdown",
   "metadata": {},
   "source": [
    "Following the first set of vanilla model scores, there is certainly room for improvement in our predictive modeling. While the vanilla RF and XGBoost models had an F1 score of 0.91 on the testing data, it may be possible with further tuning of all five models that we can improve that F1 score.\n",
    "\n",
    "To best solve our business problem of predicting customer churn, these iterative models will attempt to improve results by utilizing `GridSearchCV` to find the best performing hyperparameters for each model.\n",
    "\n",
    "In this section, I also include more information on feature importances, classification reports, and confusion matrices."
   ]
  },
  {
   "cell_type": "markdown",
   "metadata": {},
   "source": [
    "### Feature Importances\n",
    "\n",
    "[**Feature Importances**](https://towardsdatascience.com/understanding-feature-importance-and-how-to-implement-it-in-python-ff0287b20285) refer to techniques that calculate a score for all the input features for a given model; the scores simply represent the \"importance\" of each feature with a higher score indicating that the specific feature will have a larger effect on the model that is being used to predict a certain variable."
   ]
  },
  {
   "cell_type": "markdown",
   "metadata": {},
   "source": [
    "### Classification Report\n",
    "\n",
    "The [**Classification Report**](https://scikit-learn.org/stable/modules/model_evaluation.html#classification-report) is a printed report showing the main classification metrics: precision, recall, and the F1 score, along with the sample size (indicated as 'support').\n",
    "\n",
    "Remember, precision is the ability of the classifier not to label as positive a sample that is negative (what percent of the predictions were correct?), and recall is the ability of the classifier to find all the positive samples (what percent of the positive cases were caught?). The F1 score can be interpreted as a weighted harmonic mean of the precision and recall that reaches its best value at 1 and its worst score at 0.\n",
    "\n",
    "The report also includes the macro average (averaging the unweighted mean per label) and weighted average (averaging the support-weighted mean per label).\n",
    "\n",
    "The classification report is meaningful to this business problem because the model eventually chosen to predict customer churn should correctly determine a given class."
   ]
  },
  {
   "cell_type": "markdown",
   "metadata": {},
   "source": [
    "### Confusion Matrix\n",
    "\n",
    "The [**Confusion Matrix**](https://scikit-learn.org/stable/modules/model_evaluation.html#confusion-matrix) is a function evaluates classification accuracy by computing the confusion matrix with each row corresponding to the true class. Since our data is imbalanced, the included confusion matrices will be normalized such that it will show the percentage prediction of each class made by the model for that specific true label.\n",
    "\n",
    "The higher the diagonal values of the confusion matrix the better, indicating many correct predictions of True Positives and True Negatives."
   ]
  },
  {
   "cell_type": "markdown",
   "metadata": {},
   "source": [
    "## Model Tuning"
   ]
  },
  {
   "cell_type": "markdown",
   "metadata": {},
   "source": [
    "### Decision Tree Classifier"
   ]
  },
  {
   "cell_type": "code",
   "execution_count": 284,
   "metadata": {
    "ExecuteTime": {
     "end_time": "2022-05-25T22:24:52.666049Z",
     "start_time": "2022-05-25T22:24:52.605067Z"
    }
   },
   "outputs": [],
   "source": [
    "# Identify parameters to search for the decision tree classifier\n",
    "\n",
    "dt_param_grid = {\n",
    "    'criterion': ['gini', 'entropy'],\n",
    "    'max_depth': [None, 2, 4, 6],\n",
    "    'min_samples_split': [2, 5, 10],\n",
    "    'min_samples_leaf': [1, 3, 5]\n",
    "}"
   ]
  },
  {
   "cell_type": "code",
   "execution_count": 360,
   "metadata": {
    "ExecuteTime": {
     "end_time": "2022-05-27T21:24:49.193003Z",
     "start_time": "2022-05-27T21:24:44.454616Z"
    }
   },
   "outputs": [
    {
     "name": "stdout",
     "output_type": "stream",
     "text": [
      "Grid Search found the following optimal parameters: \n",
      "criterion: 'entropy'\n",
      "max_depth: 6\n",
      "min_samples_leaf: 1\n",
      "min_samples_split: 2\n"
     ]
    }
   ],
   "source": [
    "# Initialize the decision tree classifier, run the GridSearch, and fit the data to the model\n",
    "\n",
    "dt = DecisionTreeClassifier(class_weight = 'balanced', random_state = SEED)\n",
    "\n",
    "dt_gs_clf = GridSearchCV(dt, dt_param_grid, scoring = 'f1_weighted')\n",
    "dt_gs_clf.fit(X_train_scaled, y_train)\n",
    "\n",
    "print_best_params(dt_gs_clf)"
   ]
  },
  {
   "cell_type": "code",
   "execution_count": 361,
   "metadata": {
    "ExecuteTime": {
     "end_time": "2022-05-27T21:26:03.118124Z",
     "start_time": "2022-05-27T21:26:02.879429Z"
    }
   },
   "outputs": [
    {
     "name": "stdout",
     "output_type": "stream",
     "text": [
      "Training F1-Score: 0.96\n",
      "Validation F1-Score: 0.91\n",
      "F1-Score Delta: 0.044\n",
      "\n",
      " ------------------------------ \n",
      "\n",
      "Training Classification Report\n",
      "              precision    recall  f1-score   support\n",
      "\n",
      "       False       0.98      0.97      0.97      2137\n",
      "        True       0.82      0.88      0.85       362\n",
      "\n",
      "    accuracy                           0.95      2499\n",
      "   macro avg       0.90      0.93      0.91      2499\n",
      "weighted avg       0.96      0.95      0.96      2499\n",
      "\n",
      "\n",
      " ------------------------------ \n",
      "\n",
      "Testing Classification Report\n",
      "              precision    recall  f1-score   support\n",
      "\n",
      "       False       0.95      0.94      0.95       713\n",
      "        True       0.68      0.72      0.70       121\n",
      "\n",
      "    accuracy                           0.91       834\n",
      "   macro avg       0.82      0.83      0.82       834\n",
      "weighted avg       0.91      0.91      0.91       834\n",
      "\n",
      "\n",
      " ------------------------------ \n",
      "\n",
      "Confusion Matrix\n"
     ]
    },
    {
     "data": {
      "image/png": "[encoded data removed]",
      "text/plain": [
       "<Figure size 432x288 with 2 Axes>"
      ]
     },
     "metadata": {},
     "output_type": "display_data"
    }
   ],
   "source": [
    "print_gs_metrics(dt_gs_clf)"
   ]
  },
  {
   "cell_type": "markdown",
   "metadata": {},
   "source": [
    "#### Results Summary\n",
    "\n",
    "With this iterative model of the decision tree classifer, the F1-score on the training data is 0.96 whereas the F1-score on the test data is 0.91. With a delta of 0.04, this model has minimal overfitting. Further, its F1-score on the test data is improved from the baseline decision tree model (0.81) and the vanilla decision tree model (0.91).\n",
    "\n",
    "The confusion matrix also indicates that this model correctly predicted 94% of True Negatives and 72% of True Positives."
   ]
  },
  {
   "cell_type": "code",
   "execution_count": 362,
   "metadata": {
    "ExecuteTime": {
     "end_time": "2022-05-27T21:26:18.032572Z",
     "start_time": "2022-05-27T21:26:17.830691Z"
    }
   },
   "outputs": [
    {
     "data": {
      "image/png": "[encoded data removed]",
      "text/plain": [
       "<Figure size 432x288 with 1 Axes>"
      ]
     },
     "metadata": {},
     "output_type": "display_data"
    }
   ],
   "source": [
    "sns.set_theme(style = \"whitegrid\")\n",
    "plot_gs_feature_importances(dt_gs_clf)"
   ]
  },
  {
   "cell_type": "markdown",
   "metadata": {},
   "source": [
    "The features that have the largest effect on the model are:\n",
    "\n",
    "1. the total amount of money charged by SyriaTel per day\n",
    "2. the number of calls the customer made to customer service\n",
    "3. whether the customer has an international plan\n",
    "4. the total number of international minutes\n",
    "5. the number of international calls"
   ]
  },
  {
   "cell_type": "markdown",
   "metadata": {},
   "source": [
    "### Logistic Regression"
   ]
  },
  {
   "cell_type": "code",
   "execution_count": 365,
   "metadata": {
    "ExecuteTime": {
     "end_time": "2022-05-27T21:33:13.312454Z",
     "start_time": "2022-05-27T21:33:13.305059Z"
    }
   },
   "outputs": [],
   "source": [
    "# Identify parameters to search for the logistic regression model\n",
    "\n",
    "lr_param_grid = {\n",
    "    'C': [1e-1, 1e2, 1e4],\n",
    "    'penalty': ['l2', 'l1'],\n",
    "    'solver': ['lbfgs', 'liblinear', 'sag'],\n",
    "    'max_iter': [1e-1, 1e2, 1e4]\n",
    "}"
   ]
  },
  {
   "cell_type": "code",
   "execution_count": 366,
   "metadata": {
    "ExecuteTime": {
     "end_time": "2022-05-27T21:38:23.239781Z",
     "start_time": "2022-05-27T21:33:15.771513Z"
    },
    "scrolled": true
   },
   "outputs": [
    {
     "name": "stdout",
     "output_type": "stream",
     "text": [
      "Grid Search found the following optimal parameters: \n",
      "C: 0.1\n",
      "max_iter: 100.0\n",
      "penalty: 'l2'\n",
      "solver: 'lbfgs'\n"
     ]
    }
   ],
   "source": [
    "# Initialize the logistic regression, run the GridSearch, and fit the data to the model\n",
    "\n",
    "lr = LogisticRegression(class_weight = 'balanced', random_state = SEED)\n",
    "\n",
    "lr_gs_clf = GridSearchCV(lr, lr_param_grid, scoring = 'f1_weighted')\n",
    "lr_gs_clf.fit(X_train_scaled, y_train)\n",
    "\n",
    "print_best_params(lr_gs_clf)"
   ]
  },
  {
   "cell_type": "code",
   "execution_count": 367,
   "metadata": {
    "ExecuteTime": {
     "end_time": "2022-05-27T21:38:35.257157Z",
     "start_time": "2022-05-27T21:38:35.054725Z"
    }
   },
   "outputs": [
    {
     "name": "stdout",
     "output_type": "stream",
     "text": [
      "Training F1-Score: 0.8\n",
      "Validation F1-Score: 0.79\n",
      "F1-Score Delta: 0.017\n",
      "\n",
      " ------------------------------ \n",
      "\n",
      "Training Classification Report\n",
      "              precision    recall  f1-score   support\n",
      "\n",
      "       False       0.95      0.78      0.86      2137\n",
      "        True       0.37      0.76      0.49       362\n",
      "\n",
      "    accuracy                           0.78      2499\n",
      "   macro avg       0.66      0.77      0.67      2499\n",
      "weighted avg       0.87      0.78      0.80      2499\n",
      "\n",
      "\n",
      " ------------------------------ \n",
      "\n",
      "Testing Classification Report\n",
      "              precision    recall  f1-score   support\n",
      "\n",
      "       False       0.94      0.76      0.84       713\n",
      "        True       0.34      0.72      0.46       121\n",
      "\n",
      "    accuracy                           0.76       834\n",
      "   macro avg       0.64      0.74      0.65       834\n",
      "weighted avg       0.85      0.76      0.79       834\n",
      "\n",
      "\n",
      " ------------------------------ \n",
      "\n",
      "Confusion Matrix\n"
     ]
    },
    {
     "data": {
      "image/png": "[encoded data removed]",
      "text/plain": [
       "<Figure size 432x288 with 2 Axes>"
      ]
     },
     "metadata": {},
     "output_type": "display_data"
    }
   ],
   "source": [
    "print_gs_metrics(lr_gs_clf)"
   ]
  },
  {
   "cell_type": "markdown",
   "metadata": {},
   "source": [
    "#### Results Summary\n",
    "\n",
    "With this iterative model of the logistic regression model, the F1-score on the training data is 0.80 and the F1-score on the test data is 0.79. With a delta of 0.02, this model does not seem to be overfitting the data. Its F1-score on the test data (0.79) is actually a tiny bit lower than that of the F1 score of the baseline model (0.81).\n",
    "\n",
    "Additionally, the confusion matrix shows overall weaker predictions than the tuned decision tree model, correctly predicting only 76% of True Negatives and 72% of True Positives."
   ]
  },
  {
   "cell_type": "markdown",
   "metadata": {},
   "source": [
    "### K-Nearest Neighbor Classifier"
   ]
  },
  {
   "cell_type": "code",
   "execution_count": 41,
   "metadata": {
    "ExecuteTime": {
     "end_time": "2022-05-24T18:57:29.207941Z",
     "start_time": "2022-05-24T18:57:29.197870Z"
    }
   },
   "outputs": [],
   "source": [
    "# Identify parameters to search for the KNN classifier model\n",
    "\n",
    "knn_param_grid = {\n",
    "    'n_neighbors': [3, 5, 7],\n",
    "    'algorithm': ['ball_tree', 'kd_tree', 'brute'],\n",
    "    'metric': ['minkowski', 'euclidean', 'manhattan']\n",
    "}"
   ]
  },
  {
   "cell_type": "code",
   "execution_count": 370,
   "metadata": {
    "ExecuteTime": {
     "end_time": "2022-05-27T21:39:33.236804Z",
     "start_time": "2022-05-27T21:39:28.495642Z"
    }
   },
   "outputs": [
    {
     "name": "stdout",
     "output_type": "stream",
     "text": [
      "Grid Search found the following optimal parameters: \n",
      "algorithm: 'ball_tree'\n",
      "metric: 'manhattan'\n",
      "n_neighbors: 3\n"
     ]
    }
   ],
   "source": [
    "# Initialize the KNN classifier, run the GridSearch, and fit the data to the model\n",
    "\n",
    "knn = KNeighborsClassifier()\n",
    "\n",
    "knn_gs_clf = GridSearchCV(knn, knn_param_grid, scoring = 'f1_weighted')\n",
    "knn_gs_clf.fit(X_train_scaled, y_train)\n",
    "\n",
    "print_best_params(knn_gs_clf)"
   ]
  },
  {
   "cell_type": "code",
   "execution_count": 371,
   "metadata": {
    "ExecuteTime": {
     "end_time": "2022-05-27T21:39:35.844985Z",
     "start_time": "2022-05-27T21:39:35.394903Z"
    }
   },
   "outputs": [
    {
     "name": "stdout",
     "output_type": "stream",
     "text": [
      "Training F1-Score: 0.94\n",
      "Validation F1-Score: 0.86\n",
      "F1-Score Delta: 0.079\n",
      "\n",
      " ------------------------------ \n",
      "\n",
      "Training Classification Report\n",
      "              precision    recall  f1-score   support\n",
      "\n",
      "       False       0.94      0.99      0.97      2137\n",
      "        True       0.94      0.64      0.76       362\n",
      "\n",
      "    accuracy                           0.94      2499\n",
      "   macro avg       0.94      0.82      0.86      2499\n",
      "weighted avg       0.94      0.94      0.94      2499\n",
      "\n",
      "\n",
      " ------------------------------ \n",
      "\n",
      "Testing Classification Report\n",
      "              precision    recall  f1-score   support\n",
      "\n",
      "       False       0.89      0.98      0.93       713\n",
      "        True       0.74      0.28      0.41       121\n",
      "\n",
      "    accuracy                           0.88       834\n",
      "   macro avg       0.81      0.63      0.67       834\n",
      "weighted avg       0.87      0.88      0.86       834\n",
      "\n",
      "\n",
      " ------------------------------ \n",
      "\n",
      "Confusion Matrix\n"
     ]
    },
    {
     "data": {
      "image/png": "[encoded data removed]",
      "text/plain": [
       "<Figure size 432x288 with 2 Axes>"
      ]
     },
     "metadata": {},
     "output_type": "display_data"
    }
   ],
   "source": [
    "print_gs_metrics(knn_gs_clf)"
   ]
  },
  {
   "cell_type": "markdown",
   "metadata": {},
   "source": [
    "#### Results Summary\n",
    "\n",
    "With this iterative model of the KNN classifier, the F1-score on the training data is 0.94 whereas the F1-score on the test data is 0.86. With a delta of 0.08, this model does not seem to be  overfitting the data. Its F1-score on the test data (0.86) is a bit better than that of the baseline (0.81).\n",
    "\n",
    "However, there is significant concern with this model's confusion matrix, indicating this model is correctly predicting True Positives only 28% of the time and predicting False Positives 72% of the time. This is not good."
   ]
  },
  {
   "cell_type": "markdown",
   "metadata": {},
   "source": [
    "### Random Forest Classifier"
   ]
  },
  {
   "cell_type": "code",
   "execution_count": 54,
   "metadata": {
    "ExecuteTime": {
     "end_time": "2022-05-24T18:57:42.460851Z",
     "start_time": "2022-05-24T18:57:42.455618Z"
    }
   },
   "outputs": [],
   "source": [
    "# Identify parameters to search for the random forest classifier model\n",
    "\n",
    "rf_param_grid = {\n",
    "    'criterion': ['gini', 'entropy'],\n",
    "    'max_depth': [None, 2, 4, 6],\n",
    "    'min_samples_split': [2, 5, 10],\n",
    "    'min_samples_leaf': [1, 3, 5]\n",
    "}"
   ]
  },
  {
   "cell_type": "code",
   "execution_count": 372,
   "metadata": {
    "ExecuteTime": {
     "end_time": "2022-05-27T21:41:25.371145Z",
     "start_time": "2022-05-27T21:39:46.592628Z"
    }
   },
   "outputs": [
    {
     "name": "stdout",
     "output_type": "stream",
     "text": [
      "Grid Search found the following optimal parameters: \n",
      "criterion: 'entropy'\n",
      "max_depth: None\n",
      "min_samples_leaf: 3\n",
      "min_samples_split: 2\n"
     ]
    }
   ],
   "source": [
    "# Initialize the random forest classifier, run the GridSearch, and fit the data to the model\n",
    "\n",
    "rf = RandomForestClassifier(class_weight = 'balanced', random_state = SEED)\n",
    "\n",
    "rf_gs_clf = GridSearchCV(rf, rf_param_grid, scoring = 'f1_weighted')\n",
    "rf_gs_clf.fit(X_train_scaled, y_train)\n",
    "\n",
    "print_best_params(rf_gs_clf)"
   ]
  },
  {
   "cell_type": "code",
   "execution_count": 373,
   "metadata": {
    "ExecuteTime": {
     "end_time": "2022-05-27T21:41:34.597673Z",
     "start_time": "2022-05-27T21:41:34.334161Z"
    }
   },
   "outputs": [
    {
     "name": "stdout",
     "output_type": "stream",
     "text": [
      "Training F1-Score: 1.0\n",
      "Validation F1-Score: 0.94\n",
      "F1-Score Delta: 0.059\n",
      "\n",
      " ------------------------------ \n",
      "\n",
      "Training Classification Report\n",
      "              precision    recall  f1-score   support\n",
      "\n",
      "       False       1.00      1.00      1.00      2137\n",
      "        True       0.98      0.99      0.99       362\n",
      "\n",
      "    accuracy                           1.00      2499\n",
      "   macro avg       0.99      0.99      0.99      2499\n",
      "weighted avg       1.00      1.00      1.00      2499\n",
      "\n",
      "\n",
      " ------------------------------ \n",
      "\n",
      "Testing Classification Report\n",
      "              precision    recall  f1-score   support\n",
      "\n",
      "       False       0.95      0.98      0.96       713\n",
      "        True       0.84      0.71      0.77       121\n",
      "\n",
      "    accuracy                           0.94       834\n",
      "   macro avg       0.90      0.84      0.87       834\n",
      "weighted avg       0.94      0.94      0.94       834\n",
      "\n",
      "\n",
      " ------------------------------ \n",
      "\n",
      "Confusion Matrix\n"
     ]
    },
    {
     "data": {
      "image/png": "[encoded data removed]",
      "text/plain": [
       "<Figure size 432x288 with 2 Axes>"
      ]
     },
     "metadata": {},
     "output_type": "display_data"
    }
   ],
   "source": [
    "print_gs_metrics(rf_gs_clf)"
   ]
  },
  {
   "cell_type": "markdown",
   "metadata": {},
   "source": [
    "#### Results Summary\n",
    "\n",
    "With this iterative model of the random forest classifier, the F1-score on the training data is 1.0 and the F1-score on the test data is 0.94, the strongest yet. With a delta of 0.06, this model does not seem to be  overfitting the data. Its F1-score on the test data (0.94) is higher than the baseline model (0.81).\n",
    "\n",
    "Further, this model is correctly predicting 98% of True Negatives and 71% of True Positives. Its Type 1 Error (False Positives) are being predicted 29% of the time."
   ]
  },
  {
   "cell_type": "code",
   "execution_count": 374,
   "metadata": {
    "ExecuteTime": {
     "end_time": "2022-05-27T21:41:44.313669Z",
     "start_time": "2022-05-27T21:41:44.084584Z"
    }
   },
   "outputs": [
    {
     "data": {
      "image/png": "[encoded data removed]",
      "text/plain": [
       "<Figure size 432x288 with 1 Axes>"
      ]
     },
     "metadata": {},
     "output_type": "display_data"
    }
   ],
   "source": [
    "plot_gs_feature_importances(rf_gs_clf)"
   ]
  },
  {
   "cell_type": "markdown",
   "metadata": {},
   "source": [
    "The features that have the largest effect on the model are:\n",
    "\n",
    "1. the total number of minutes used per day\n",
    "2. the amount of money charged by SyriaTel per day\n",
    "3. the number of calls the customer made to customer service\n",
    "4. whether the customer has an international plan\n",
    "5. total number of minutes used per night.\n",
    "\n",
    "Four of the five top features of this Random Forest classifier are the same as those of the Decision Tree classifier."
   ]
  },
  {
   "cell_type": "markdown",
   "metadata": {},
   "source": [
    "### XGBoost"
   ]
  },
  {
   "cell_type": "code",
   "execution_count": 286,
   "metadata": {
    "ExecuteTime": {
     "end_time": "2022-05-25T23:35:35.132405Z",
     "start_time": "2022-05-25T23:35:35.080083Z"
    }
   },
   "outputs": [],
   "source": [
    "# Identify parameters to search for the XGBoost classifier model\n",
    "\n",
    "xgb_param_grid = {\n",
    "    'learning_rate': [0.1, 0.2],\n",
    "    'max_depth': [2, 6, 10],\n",
    "    'min_child_weight': [0, 1, 2],\n",
    "    'subsample': [0.3, 0.5, 0.7],\n",
    "    'n_estimators': [10, 30, 100],\n",
    "}"
   ]
  },
  {
   "cell_type": "code",
   "execution_count": 375,
   "metadata": {
    "ExecuteTime": {
     "end_time": "2022-05-27T21:43:30.898637Z",
     "start_time": "2022-05-27T21:42:16.463987Z"
    }
   },
   "outputs": [
    {
     "name": "stdout",
     "output_type": "stream",
     "text": [
      "Grid Search found the following optimal parameters: \n",
      "criterion: 'entropy'\n",
      "max_depth: None\n",
      "min_samples_leaf: 3\n",
      "min_samples_split: 2\n"
     ]
    }
   ],
   "source": [
    "# Initialize the XGBoost classifier, run the GridSearch, and fit the data to the model\n",
    "\n",
    "xgb_clf = XGBClassifier(seed = SEED)\n",
    "\n",
    "xgb_gs_clf = GridSearchCV(xgb_clf, xgb_param_grid, scoring = 'f1_weighted')\n",
    "xgb_gs_clf.fit(X_train_scaled, y_train)\n",
    "\n",
    "print_best_params(rf_gs_clf)"
   ]
  },
  {
   "cell_type": "code",
   "execution_count": 376,
   "metadata": {
    "ExecuteTime": {
     "end_time": "2022-05-27T21:43:34.680095Z",
     "start_time": "2022-05-27T21:43:34.460257Z"
    }
   },
   "outputs": [
    {
     "name": "stdout",
     "output_type": "stream",
     "text": [
      "Training F1-Score: 0.98\n",
      "Validation F1-Score: 0.94\n",
      "F1-Score Delta: 0.045\n",
      "\n",
      " ------------------------------ \n",
      "\n",
      "Training Classification Report\n",
      "              precision    recall  f1-score   support\n",
      "\n",
      "       False       0.98      1.00      0.99      2137\n",
      "        True       1.00      0.90      0.94       362\n",
      "\n",
      "    accuracy                           0.98      2499\n",
      "   macro avg       0.99      0.95      0.97      2499\n",
      "weighted avg       0.99      0.98      0.98      2499\n",
      "\n",
      "\n",
      " ------------------------------ \n",
      "\n",
      "Testing Classification Report\n",
      "              precision    recall  f1-score   support\n",
      "\n",
      "       False       0.95      0.98      0.97       713\n",
      "        True       0.88      0.69      0.78       121\n",
      "\n",
      "    accuracy                           0.94       834\n",
      "   macro avg       0.92      0.84      0.87       834\n",
      "weighted avg       0.94      0.94      0.94       834\n",
      "\n",
      "\n",
      " ------------------------------ \n",
      "\n",
      "Confusion Matrix\n"
     ]
    },
    {
     "data": {
      "image/png": "[encoded data removed]",
      "text/plain": [
       "<Figure size 432x288 with 2 Axes>"
      ]
     },
     "metadata": {},
     "output_type": "display_data"
    }
   ],
   "source": [
    "print_gs_metrics(xgb_gs_clf)"
   ]
  },
  {
   "cell_type": "markdown",
   "metadata": {},
   "source": [
    "#### Results Summary\n",
    "\n",
    "With this iterative model of the XGBoost classifier, the F1-score on the training data is 0.98 and the F1-score on the test data is 0.94. With a delta of 0.05, this model does not seem to be  overfitting the data. Its F1-score is higher (0.94) than the baseline decision stump model (0.81).\n",
    "\n",
    "Looking at the confusion matrix, the XGBoost model is correctly predicting 98% of True Negatives and 69% of True Positives. Its Type 1 Error (False Positives) are being predicted 31% of the time. The True Positive prediction percentage (69%) is marginally lower than the tuned random forest model and its percentage of Type 1 errors (31%) is marginally higher than the tuned random forest model as well."
   ]
  },
  {
   "cell_type": "code",
   "execution_count": 377,
   "metadata": {
    "ExecuteTime": {
     "end_time": "2022-05-27T21:43:44.210242Z",
     "start_time": "2022-05-27T21:43:43.989355Z"
    }
   },
   "outputs": [
    {
     "data": {
      "image/png": "[encoded data removed]",
      "text/plain": [
       "<Figure size 432x288 with 1 Axes>"
      ]
     },
     "metadata": {},
     "output_type": "display_data"
    }
   ],
   "source": [
    "plot_gs_feature_importances(xgb_gs_clf)"
   ]
  },
  {
   "cell_type": "markdown",
   "metadata": {},
   "source": [
    "The features that have the largest effect on this XGBoost model are:\n",
    "\n",
    "1. the number of calls the customer made to customer service\n",
    "2. whether the customer has a voice mail plan\n",
    "3. the total number of minutes used per day \n",
    "4. whether the customer has an international plan\n",
    "5. the total number of international calls made \n",
    "\n",
    "Two of the five top features of this XGBoost classifier are the same as those of both the Decision Tree classifier and Random Forest classifier (number of calls made to customer service and whether the customer has an international plan)."
   ]
  },
  {
   "cell_type": "markdown",
   "metadata": {},
   "source": [
    "### Summary Results Table"
   ]
  },
  {
   "cell_type": "code",
   "execution_count": 395,
   "metadata": {
    "ExecuteTime": {
     "end_time": "2022-05-28T23:50:00.893834Z",
     "start_time": "2022-05-28T23:50:00.609558Z"
    }
   },
   "outputs": [],
   "source": [
    "# Build a table of the results from the set of tuned models\n",
    "\n",
    "classifiers = [lr_gs_clf, knn_gs_clf, dt_gs_clf, rf_gs_clf, xgb_gs_clf]\n",
    "classifier_names = [\"Decision Tree\", \"Logistic Regression\", \"KNN\", \"Random Forest\", \"XGBoost\"]\n",
    "\n",
    "accs = []\n",
    "recalls = []\n",
    "precision = []\n",
    "results_table = pd.DataFrame(columns=[\"accuracy\", \"precision\", \"recall\", \"f1\"])\n",
    "for (i, clf), name in zip(enumerate(classifiers), classifier_names):\n",
    "    y_pred = clf.predict(X_test_scaled)\n",
    "    row = []\n",
    "    \n",
    "    # positive class for each metric\n",
    "    row.append(accuracy_score(y_test, y_pred))\n",
    "    row.append(precision_score(y_test, y_pred, average = 'weighted'))\n",
    "    row.append(recall_score(y_test, y_pred, average = 'weighted'))\n",
    "    row.append(f1_score(y_test, y_pred, average = 'weighted'))\n",
    "    row = [\"%.3f\" % r for r in row]\n",
    "    results_table.loc[name] = row"
   ]
  },
  {
   "cell_type": "code",
   "execution_count": 396,
   "metadata": {
    "ExecuteTime": {
     "end_time": "2022-05-28T23:50:02.526328Z",
     "start_time": "2022-05-28T23:50:02.496613Z"
    }
   },
   "outputs": [
    {
     "data": {
      "text/html": [
       "<div>\n",
       "<style scoped>\n",
       "    .dataframe tbody tr th:only-of-type {\n",
       "        vertical-align: middle;\n",
       "    }\n",
       "\n",
       "    .dataframe tbody tr th {\n",
       "        vertical-align: top;\n",
       "    }\n",
       "\n",
       "    .dataframe thead th {\n",
       "        text-align: right;\n",
       "    }\n",
       "</style>\n",
       "<table border=\"1\" class=\"dataframe\">\n",
       "  <thead>\n",
       "    <tr style=\"text-align: right;\">\n",
       "      <th></th>\n",
       "      <th>accuracy</th>\n",
       "      <th>precision</th>\n",
       "      <th>recall</th>\n",
       "      <th>f1</th>\n",
       "    </tr>\n",
       "  </thead>\n",
       "  <tbody>\n",
       "    <tr>\n",
       "      <th>Decision Tree</th>\n",
       "      <td>0.755</td>\n",
       "      <td>0.854</td>\n",
       "      <td>0.755</td>\n",
       "      <td>0.787</td>\n",
       "    </tr>\n",
       "    <tr>\n",
       "      <th>Logistic Regression</th>\n",
       "      <td>0.881</td>\n",
       "      <td>0.868</td>\n",
       "      <td>0.881</td>\n",
       "      <td>0.858</td>\n",
       "    </tr>\n",
       "    <tr>\n",
       "      <th>KNN</th>\n",
       "      <td>0.910</td>\n",
       "      <td>0.912</td>\n",
       "      <td>0.910</td>\n",
       "      <td>0.911</td>\n",
       "    </tr>\n",
       "    <tr>\n",
       "      <th>Random Forest</th>\n",
       "      <td>0.939</td>\n",
       "      <td>0.936</td>\n",
       "      <td>0.939</td>\n",
       "      <td>0.937</td>\n",
       "    </tr>\n",
       "    <tr>\n",
       "      <th>XGBoost</th>\n",
       "      <td>0.942</td>\n",
       "      <td>0.940</td>\n",
       "      <td>0.942</td>\n",
       "      <td>0.939</td>\n",
       "    </tr>\n",
       "  </tbody>\n",
       "</table>\n",
       "</div>"
      ],
      "text/plain": [
       "                    accuracy precision recall     f1\n",
       "Decision Tree          0.755     0.854  0.755  0.787\n",
       "Logistic Regression    0.881     0.868  0.881  0.858\n",
       "KNN                    0.910     0.912  0.910  0.911\n",
       "Random Forest          0.939     0.936  0.939  0.937\n",
       "XGBoost                0.942     0.940  0.942  0.939"
      ]
     },
     "execution_count": 396,
     "metadata": {},
     "output_type": "execute_result"
    }
   ],
   "source": [
    "results_table"
   ]
  },
  {
   "cell_type": "markdown",
   "metadata": {},
   "source": [
    "# Evaluation\n"
   ]
  },
  {
   "cell_type": "code",
   "execution_count": 401,
   "metadata": {
    "ExecuteTime": {
     "end_time": "2022-05-28T23:52:14.932385Z",
     "start_time": "2022-05-28T23:52:14.623361Z"
    }
   },
   "outputs": [
    {
     "name": "stdout",
     "output_type": "stream",
     "text": [
      "Baseline Model Metrics\n",
      "Training F1-Score: 0.83\n",
      "Validation F1-Score: 0.81\n",
      "F1-Score Delta: 0.024\n",
      "\n",
      " ------------------------------ \n",
      "\n",
      "Training Classification Report\n",
      "              precision    recall  f1-score   support\n",
      "\n",
      "       False       0.90      0.89      0.90      2137\n",
      "        True       0.41      0.44      0.42       362\n",
      "\n",
      "    accuracy                           0.83      2499\n",
      "   macro avg       0.66      0.67      0.66      2499\n",
      "weighted avg       0.83      0.83      0.83      2499\n",
      "\n",
      "\n",
      " ------------------------------ \n",
      "\n",
      "Testing Classification Report\n",
      "              precision    recall  f1-score   support\n",
      "\n",
      "       False       0.89      0.89      0.89       713\n",
      "        True       0.33      0.33      0.33       121\n",
      "\n",
      "    accuracy                           0.81       834\n",
      "   macro avg       0.61      0.61      0.61       834\n",
      "weighted avg       0.81      0.81      0.81       834\n",
      "\n",
      "\n",
      " ------------------------------ \n",
      "\n",
      "Confusion Matrix\n"
     ]
    },
    {
     "data": {
      "image/png": "[encoded data removed]",
      "text/plain": [
       "<Figure size 432x288 with 2 Axes>"
      ]
     },
     "metadata": {},
     "output_type": "display_data"
    }
   ],
   "source": [
    "print('Baseline Model Metrics')\n",
    "print_gs_metrics(baseline)"
   ]
  },
  {
   "cell_type": "code",
   "execution_count": 402,
   "metadata": {
    "ExecuteTime": {
     "end_time": "2022-05-28T23:53:34.141642Z",
     "start_time": "2022-05-28T23:53:33.867560Z"
    }
   },
   "outputs": [
    {
     "name": "stdout",
     "output_type": "stream",
     "text": [
      "Final Model Metrics\n",
      "Training F1-Score: 0.98\n",
      "Validation F1-Score: 0.94\n",
      "F1-Score Delta: 0.045\n",
      "\n",
      " ------------------------------ \n",
      "\n",
      "Training Classification Report\n",
      "              precision    recall  f1-score   support\n",
      "\n",
      "       False       0.98      1.00      0.99      2137\n",
      "        True       1.00      0.90      0.94       362\n",
      "\n",
      "    accuracy                           0.98      2499\n",
      "   macro avg       0.99      0.95      0.97      2499\n",
      "weighted avg       0.99      0.98      0.98      2499\n",
      "\n",
      "\n",
      " ------------------------------ \n",
      "\n",
      "Testing Classification Report\n",
      "              precision    recall  f1-score   support\n",
      "\n",
      "       False       0.95      0.98      0.97       713\n",
      "        True       0.88      0.69      0.78       121\n",
      "\n",
      "    accuracy                           0.94       834\n",
      "   macro avg       0.92      0.84      0.87       834\n",
      "weighted avg       0.94      0.94      0.94       834\n",
      "\n",
      "\n",
      " ------------------------------ \n",
      "\n",
      "Confusion Matrix\n"
     ]
    },
    {
     "data": {
      "image/png": "[encoded data removed]",
      "text/plain": [
       "<Figure size 432x288 with 2 Axes>"
      ]
     },
     "metadata": {},
     "output_type": "display_data"
    }
   ],
   "source": [
    "print('Final Model Metrics')\n",
    "print_gs_metrics(xgb_gs_clf)"
   ]
  },
  {
   "cell_type": "markdown",
   "metadata": {},
   "source": [
    "The final model selected to address the business problem of predicting customer churn is the tuned XGBoost classifier. Remember, the XGBoost classifier provides parallel tree boosting that can solve many data science problems in a fast and accurate way.\n",
    "\n",
    "The F1-score is the best metric to measure the performance of the predictive modeling for this business case because it is the harmonic mean of precision and recall, two measures important to predicting a binary class (churn or no churn), averaged to best evaluate imbalanced data.\n",
    "\n",
    "The F1-score of this final model (the tuned XGBoost model) is 0.94 whereas the baseline model's F1-score is 0.81. Further, this final model correctly predicts True Negatives 98% of the time and True Positives 69% of the time.\n",
    "\n",
    "A couple limitations of XGBoost that must be noted: XGBoost is more likely to overfit than bagging does (i.e. random forest) and it does not perform as well on sparse and unstructured data. However, in this business case, our data is robust with few outliers (based on exploratory analysis) and a selection of hyperparameters that perform the best.\n",
    "\n",
    "Lastly, this final model does predict Type 1 errors (False Positives) 31% of the time, so that must be considered in predicting customer churn on future, unseen data."
   ]
  },
  {
   "attachments": {},
   "cell_type": "markdown",
   "metadata": {},
   "source": [
    "# Recommendations for Future Work\n",
    "\n",
    "* Provide a larger dataset: The predictive modeling for SyriaTel can be improved upon for more enhanced performance with a larger dataset from which the models can be trained. Further, the dataset should include dates/time periods to understand when the data had been collected.\n",
    "* Further Analysis of Feature Importances:  Whether SyriaTel's customers have a voice mail plan or an international plan as well as the number of international calls made or number of calls made to customer service all had more influence on the churn rate than other features.\n",
    "* Evaluate Customer Service: Conduct customer service surveys for more information on why customers are calling\n",
    "* Conduct industry benchmarking to determine how SyriaTel's voice mail and international plans compare to its offerings\n"
   ]
  }
 ],
 "metadata": {
  "kernelspec": {
   "display_name": "Python 3",
   "language": "python",
   "name": "python3"
  },
  "language_info": {
   "codemirror_mode": {
    "name": "ipython",
    "version": 3
   },
   "file_extension": ".py",
   "mimetype": "text/x-python",
   "name": "python",
   "nbconvert_exporter": "python",
   "pygments_lexer": "ipython3",
   "version": "3.8.5"
  },
  "toc": {
   "base_numbering": 1,
   "nav_menu": {},
   "number_sections": true,
   "sideBar": true,
   "skip_h1_title": false,
   "title_cell": "Table of Contents",
   "title_sidebar": "Contents",
   "toc_cell": false,
   "toc_position": {
    "height": "calc(100% - 180px)",
    "left": "10px",
    "top": "150px",
    "width": "231px"
   },
   "toc_section_display": true,
   "toc_window_display": true
  }
 },
 "nbformat": 4,
 "nbformat_minor": 4
}
